{
 "cells": [
  {
   "cell_type": "markdown",
   "metadata": {},
   "source": [
    "## Set Up"
   ]
  },
  {
   "cell_type": "code",
   "execution_count": 121,
   "metadata": {},
   "outputs": [],
   "source": [
    "import os\n",
    "from dotenv import load_dotenv,find_dotenv\n",
    "_=load_dotenv(find_dotenv())\n"
   ]
  },
  {
   "cell_type": "code",
   "execution_count": 122,
   "metadata": {},
   "outputs": [],
   "source": [
    "import cohere\n",
    "co=cohere.Client(os.environ[\"COHERE_API_KEY\"])"
   ]
  },
  {
   "cell_type": "code",
   "execution_count": 123,
   "metadata": {},
   "outputs": [],
   "source": [
    "import pandas as pd\n",
    "import numpy as np"
   ]
  },
  {
   "cell_type": "code",
   "execution_count": 124,
   "metadata": {},
   "outputs": [
    {
     "name": "stderr",
     "output_type": "stream",
     "text": [
      "/var/folders/sq/lqy3ccs55f50y6nkgd9x14k80000gn/T/ipykernel_12734/1077452103.py:6: DeprecationWarning: \n",
      "Python client v3 `weaviate.Client(...)` connections and methods are deprecated and will\n",
      "            be removed by 2024-11-30.\n",
      "\n",
      "            Upgrade your code to use Python client v4 `weaviate.WeaviateClient` connections and methods.\n",
      "                - For Python Client v4 usage, see: https://weaviate.io/developers/weaviate/client-libraries/python\n",
      "                - For code migration, see: https://weaviate.io/developers/weaviate/client-libraries/python/v3_v4_migration\n",
      "\n",
      "            If you have to use v3 code, install the v3 client and pin the v3 dependency in your requirements file: `weaviate-client>=3.26.7;<4.0.0`\n",
      "  client=weaviate.Client(\n",
      "/Users/nahom/Desktop/qc_team/semantic search/env/lib/python3.12/site-packages/weaviate/warnings.py:186: DeprecationWarning: Dep016: Python client v3 `weaviate.Client(...)` connections and methods are deprecated and will\n",
      "            be removed by 2024-11-30.\n",
      "\n",
      "            Upgrade your code to use Python client v4 `weaviate.WeaviateClient` connections and methods.\n",
      "                - For Python Client v4 usage, see: https://weaviate.io/developers/weaviate/client-libraries/python\n",
      "                - For code migration, see: https://weaviate.io/developers/weaviate/client-libraries/python/v3_v4_migration\n",
      "\n",
      "            If you have to use v3 code, install the v3 client and pin the v3 dependency in your requirements file: `weaviate-client>=3.26.7;<4.0.0`\n",
      "  warnings.warn(\n"
     ]
    }
   ],
   "source": [
    "import weaviate \n",
    "auth_config=weaviate.auth.AuthApiKey(\n",
    "    api_key=os.environ['WEAVIATE_ADMIN_API_KEY']\n",
    ")\n",
    "\n",
    "client=weaviate.Client(\n",
    "    url=os.environ['WEAVIATE_REST_END_POINT_URL'],\n",
    "    auth_client_secret=auth_config,\n",
    "    additional_headers={\n",
    "        \"X-Cohere-Api-Key\":os.environ[\"COHERE_API_KEY\"]\n",
    "    }\n",
    ")"
   ]
  },
  {
   "cell_type": "markdown",
   "metadata": {},
   "source": [
    "### Loading WikiPedia Data Frame"
   ]
  },
  {
   "cell_type": "code",
   "execution_count": 129,
   "metadata": {},
   "outputs": [],
   "source": [
    "wiki_articles=pd.read_pickle('wikipedia.pkl')\n",
    "wiki_articles=wiki_articles.drop(columns=[\"emb\"])"
   ]
  },
  {
   "cell_type": "code",
   "execution_count": 130,
   "metadata": {},
   "outputs": [
    {
     "name": "stdout",
     "output_type": "stream",
     "text": [
      "(2000, 8)\n",
      "Index(['id', 'title', 'text', 'url', 'wiki_id', 'views', 'paragraph_id',\n",
      "       'langs'],\n",
      "      dtype='object')\n"
     ]
    }
   ],
   "source": [
    "print(wiki_articles.shape)\n",
    "headers=wiki_articles.columns\n",
    "print(headers)"
   ]
  },
  {
   "cell_type": "markdown",
   "metadata": {},
   "source": [
    "## Use cohere to embede\n",
    "#### Of all the properties of the page lets embede the text attribute to a vector"
   ]
  },
  {
   "cell_type": "code",
   "execution_count": 22,
   "metadata": {},
   "outputs": [],
   "source": [
    "# Ensure the first row of the 'text' column is accessed correctly\n",
    "# def count_tokens(text):\n",
    "#     response = co.tokenize(text)\n",
    "#     return len(response['tokens'])\n",
    "\n",
    "# # Access the text of the first row using iloc\n",
    "# print(count_tokens(wiki_articles.iloc[0][\"text\"]))\n"
   ]
  },
  {
   "cell_type": "code",
   "execution_count": 84,
   "metadata": {},
   "outputs": [
    {
     "name": "stdout",
     "output_type": "stream",
     "text": [
      "Total tokens for all articles: 133397\n"
     ]
    }
   ],
   "source": [
    "def estimate_tokens(text):\n",
    "    return len(text.split()) # Approximate token count\n",
    "\n",
    "def calculate_article_token(wiki):\n",
    "    wiki[\"token_count\"] = wiki[\"text\"].apply(estimate_tokens)\n",
    "    total_tokens = wiki_articles[\"token_count\"].sum()\n",
    "\n",
    "    print(f\"Total tokens for all articles: {total_tokens}\")\n",
    "\n",
    "\n",
    "\n",
    "calculate_article_token(wiki_articles)\n"
   ]
  },
  {
   "cell_type": "markdown",
   "metadata": {},
   "source": [
    "### Lets drop the last 500 rows to reduce the token size and make it below 100,000"
   ]
  },
  {
   "cell_type": "code",
   "execution_count": 131,
   "metadata": {},
   "outputs": [
    {
     "name": "stdout",
     "output_type": "stream",
     "text": [
      "(200, 8)\n"
     ]
    }
   ],
   "source": [
    "wiki_articles = wiki_articles.iloc[:-1800]\n",
    "\n",
    "print(wiki_articles.shape)\n",
    "# # calculate_article_token(wiki_articles_reduced)"
   ]
  },
  {
   "cell_type": "markdown",
   "metadata": {},
   "source": [
    "### Truncate the text in the text column to reduce the number of tokens per entry"
   ]
  },
  {
   "cell_type": "code",
   "execution_count": 132,
   "metadata": {},
   "outputs": [
    {
     "name": "stdout",
     "output_type": "stream",
     "text": [
      "Total tokens for all articles: 13159\n",
      "None\n",
      "nahom1\n"
     ]
    }
   ],
   "source": [
    "def truncate_text(text, max_tokens=100):\n",
    "    # Tokenize the text and truncate it to the max_tokens limit\n",
    "    tokens = text.split()  # This splits the text into words (tokens)\n",
    "    truncated_text = \" \".join(tokens[:max_tokens])# Keep the first max_tokens tokens\n",
    "    return truncated_text\n",
    "\n",
    "# Apply the function to the 'text' column to truncate the texts\n",
    "wiki_articles['text'] = wiki_articles['text'].apply(truncate_text)\n",
    "\n",
    "# Now the text column is truncated, and the token count will be reduced\n",
    "print(calculate_article_token(wiki_articles))\n",
    "print(\"nahom1\")\n"
   ]
  },
  {
   "cell_type": "markdown",
   "metadata": {},
   "source": []
  },
  {
   "cell_type": "code",
   "execution_count": 133,
   "metadata": {},
   "outputs": [],
   "source": [
    "wiki_articles[\"emb\"]=co.embed(\n",
    "    texts=wiki_articles[\"text\"].tolist(),\n",
    "    model=\"embed-english-v2.0\"\n",
    ").embeddings"
   ]
  },
  {
   "cell_type": "code",
   "execution_count": 134,
   "metadata": {},
   "outputs": [
    {
     "data": {
      "text/plain": [
       "Index(['id', 'title', 'text', 'url', 'wiki_id', 'views', 'paragraph_id',\n",
       "       'langs', 'token_count', 'emb'],\n",
       "      dtype='object')"
      ]
     },
     "execution_count": 134,
     "metadata": {},
     "output_type": "execute_result"
    }
   ],
   "source": [
    "wiki_articles.columns"
   ]
  },
  {
   "cell_type": "markdown",
   "metadata": {},
   "source": [
    "## Define the Weaviate Schema and Upload Object to Weaviate"
   ]
  },
  {
   "cell_type": "code",
   "execution_count": 136,
   "metadata": {},
   "outputs": [
    {
     "data": {
      "text/plain": [
       "True"
      ]
     },
     "execution_count": 136,
     "metadata": {},
     "output_type": "execute_result"
    }
   ],
   "source": [
    "# client.schema.delete_class(\"TurncatedWikipediaSemanticSearch\")\n",
    "\n",
    "# schema = {\n",
    "#     \"class\": \"TurncatedWikipediaSemanticSearch\",\n",
    "#     \"description\": \"A collection of Wikipedia articles with Cohere embeddings\",\n",
    "#     \"properties\": [\n",
    "#         {\"name\": \"title\", \"dataType\": [\"string\"], \"description\": \"The title of the article\"},\n",
    "#         {\"name\": \"text\", \"dataType\": [\"string\"], \"description\": \"The text content of the article\"},\n",
    "#         {\"name\": \"url\", \"dataType\": [\"string\"], \"description\": \"The URL of the article\"},\n",
    "#         {\"name\": \"wiki_id\", \"dataType\": [\"number\"], \"description\": \"The Wikipedia ID of the article\"},\n",
    "#         {\"name\": \"views\", \"dataType\": [\"number\"], \"description\": \"The number of views of the article\"},\n",
    "#         {\"name\": \"paragraph_id\", \"dataType\": [\"number\"], \"description\": \"The paragraph ID within the article\"},\n",
    "#     ],\n",
    "#     \"vectorizer\": \"none\"\n",
    "# }\n",
    "\n",
    "\n",
    "# client.schema.create_class(schema)\n",
    "client.is_ready()"
   ]
  },
  {
   "cell_type": "code",
   "execution_count": 137,
   "metadata": {},
   "outputs": [
    {
     "data": {
      "text/plain": [
       "(200, 10)"
      ]
     },
     "execution_count": 137,
     "metadata": {},
     "output_type": "execute_result"
    }
   ],
   "source": [
    "wiki_articles.shape"
   ]
  },
  {
   "cell_type": "code",
   "execution_count": 138,
   "metadata": {},
   "outputs": [],
   "source": [
    "className=\"TurncatedWikipediaSemanticSearch\"\n",
    "for _,row in wiki_articles.iterrows():\n",
    "    data_obj={\n",
    "            \"title\":row[\"title\"],\n",
    "            \"text\":row[\"text\"],\n",
    "            \"url\":row[\"url\"],\n",
    "            \"wiki_id\":row[\"wiki_id\"],\n",
    "            \"views\":row[\"views\"],\n",
    "            \"paragraph_id\":row[\"paragraph_id\"],\n",
    "    }\n",
    "    vector=row[\"emb\"]\n",
    "    \n",
    "    client.data_object.create(data_object=data_obj,class_name=className,vector=vector)"
   ]
  },
  {
   "cell_type": "markdown",
   "metadata": {},
   "source": [
    "## visualizing the data along with its embedding \n"
   ]
  },
  {
   "cell_type": "code",
   "execution_count": 140,
   "metadata": {},
   "outputs": [],
   "source": [
    "from my_utils import umap_plot_big\n",
    "data=wiki_articles[[\"title\",\"text\"]]\n",
    "data_embed=np.array([d for d in wiki_articles[\"emb\"]])\n",
    "\n",
    "data_chart=umap_plot_big(data,data_embed)\n"
   ]
  },
  {
   "cell_type": "code",
   "execution_count": 141,
   "metadata": {},
   "outputs": [
    {
     "data": {
      "text/html": [
       "\n",
       "<style>\n",
       "  #altair-viz-48384e0cb5b346108e4441c8877c8012.vega-embed {\n",
       "    width: 100%;\n",
       "    display: flex;\n",
       "  }\n",
       "\n",
       "  #altair-viz-48384e0cb5b346108e4441c8877c8012.vega-embed details,\n",
       "  #altair-viz-48384e0cb5b346108e4441c8877c8012.vega-embed details summary {\n",
       "    position: relative;\n",
       "  }\n",
       "</style>\n",
       "<div id=\"altair-viz-48384e0cb5b346108e4441c8877c8012\"></div>\n",
       "<script type=\"text/javascript\">\n",
       "  var VEGA_DEBUG = (typeof VEGA_DEBUG == \"undefined\") ? {} : VEGA_DEBUG;\n",
       "  (function(spec, embedOpt){\n",
       "    let outputDiv = document.currentScript.previousElementSibling;\n",
       "    if (outputDiv.id !== \"altair-viz-48384e0cb5b346108e4441c8877c8012\") {\n",
       "      outputDiv = document.getElementById(\"altair-viz-48384e0cb5b346108e4441c8877c8012\");\n",
       "    }\n",
       "    const paths = {\n",
       "      \"vega\": \"https://cdn.jsdelivr.net/npm/vega@5?noext\",\n",
       "      \"vega-lib\": \"https://cdn.jsdelivr.net/npm/vega-lib?noext\",\n",
       "      \"vega-lite\": \"https://cdn.jsdelivr.net/npm/vega-lite@5.20.1?noext\",\n",
       "      \"vega-embed\": \"https://cdn.jsdelivr.net/npm/vega-embed@6?noext\",\n",
       "    };\n",
       "\n",
       "    function maybeLoadScript(lib, version) {\n",
       "      var key = `${lib.replace(\"-\", \"\")}_version`;\n",
       "      return (VEGA_DEBUG[key] == version) ?\n",
       "        Promise.resolve(paths[lib]) :\n",
       "        new Promise(function(resolve, reject) {\n",
       "          var s = document.createElement('script');\n",
       "          document.getElementsByTagName(\"head\")[0].appendChild(s);\n",
       "          s.async = true;\n",
       "          s.onload = () => {\n",
       "            VEGA_DEBUG[key] = version;\n",
       "            return resolve(paths[lib]);\n",
       "          };\n",
       "          s.onerror = () => reject(`Error loading script: ${paths[lib]}`);\n",
       "          s.src = paths[lib];\n",
       "        });\n",
       "    }\n",
       "\n",
       "    function showError(err) {\n",
       "      outputDiv.innerHTML = `<div class=\"error\" style=\"color:red;\">${err}</div>`;\n",
       "      throw err;\n",
       "    }\n",
       "\n",
       "    function displayChart(vegaEmbed) {\n",
       "      vegaEmbed(outputDiv, spec, embedOpt)\n",
       "        .catch(err => showError(`Javascript Error: ${err.message}<br>This usually means there's a typo in your chart specification. See the javascript console for the full traceback.`));\n",
       "    }\n",
       "\n",
       "    if(typeof define === \"function\" && define.amd) {\n",
       "      requirejs.config({paths});\n",
       "      require([\"vega-embed\"], displayChart, err => showError(`Error loading script: ${err.message}`));\n",
       "    } else {\n",
       "      maybeLoadScript(\"vega\", \"5\")\n",
       "        .then(() => maybeLoadScript(\"vega-lite\", \"5.20.1\"))\n",
       "        .then(() => maybeLoadScript(\"vega-embed\", \"6\"))\n",
       "        .catch(showError)\n",
       "        .then(() => displayChart(vegaEmbed));\n",
       "    }\n",
       "  })({\"config\": {\"view\": {\"continuousWidth\": 300, \"continuousHeight\": 300}}, \"data\": {\"name\": \"data-9ca6cf06191885a3b4c1f749de47f82f\"}, \"mark\": {\"type\": \"circle\", \"size\": 60}, \"encoding\": {\"tooltip\": [{\"field\": \"title\", \"type\": \"nominal\"}, {\"field\": \"text\", \"type\": \"nominal\"}], \"x\": {\"field\": \"x\", \"scale\": {\"zero\": false}, \"type\": \"quantitative\"}, \"y\": {\"field\": \"y\", \"scale\": {\"zero\": false}, \"type\": \"quantitative\"}}, \"height\": 400, \"params\": [{\"name\": \"param_2\", \"select\": {\"type\": \"interval\", \"encodings\": [\"x\", \"y\"]}, \"bind\": \"scales\"}], \"width\": 700, \"$schema\": \"https://vega.github.io/schema/vega-lite/v5.20.1.json\", \"datasets\": {\"data-9ca6cf06191885a3b4c1f749de47f82f\": [{\"title\": \"24-hour clock\", \"text\": \"The 24-hour clock is a way of telling the time in which the day runs from midnight to midnight and is divided into 24 hours, numbered from 0 to 23. It does not use a.m. or p.m. This system is also referred to (only in the US and the English speaking parts of Canada) as military time or (only in the United Kingdom and now very rarely) as continental time. In some parts of the world, it is called railway time. Also, the international standard notation of time (ISO 8601) is based on this format.\", \"x\": 3.207707405090332, \"y\": 0.7064917087554932}, {\"title\": \"The Dark Knight Trilogy\", \"text\": \"The \\\"Dark Knight\\\" Series is a set of three Christopher Nolan Batman movies. It includes \\\"Batman Begins\\\" (2005), \\\"The Dark Knight\\\" (2008), and \\\"The Dark Knight Rises\\\" (2012). Christian Bale, Michael Caine, Gary Oldman, Morgan Freeman, and Cillian Murphy appeared in all three movies.\", \"x\": 1.1017097234725952, \"y\": 2.125718116760254}, {\"title\": \"Abella Danger\", \"text\": \"Abella Danger (born November 19, 1995) is an American pornographic actress and model. She was born in Miami, Florida. She is related to a daughter of the cousin to the 46th US president, president Joseph Robinette Biden Jr.\", \"x\": 0.5813457369804382, \"y\": 3.3997397422790527}, {\"title\": \"Cristiano Ronaldo\", \"text\": \"Cristiano Ronaldo dos Santos Aveiro (born 5 February 1985), better known as Cristiano Ronaldo, is a Portuguese professional footballer who plays as a forward. He is the captain of the Portuguese national team and he is currently a free agent. He is considered to be one of the greatest footballers of all time, and, by some, as the greatest ever.\", \"x\": 1.998508095741272, \"y\": 3.0722033977508545}, {\"title\": \"Carles Puigdemont\", \"text\": \"Carles Puigdemont i Casamaj\\u00f3 (born 29 December 1962) was the President of Catalonia. His party, Democratic Convergence of Catalonia (\\\"Converg\\u00e8ncia Democr\\u00e0tica de Catalunya\\\", CDC) won the elections in 2016.\", \"x\": 2.1809651851654053, \"y\": 3.7104532718658447}, {\"title\": \"Teenager\", \"text\": \"A teenager, or teen, is someone who is between 13 and 19 years old. They are called teenagers because the number of their age contains the suffix \\\"teen\\\". The word \\\"teenager\\\" is often associated with adolescence. Most neurologists consider the brain still developing into a person's early or mid-20s. A person becomes a teenager when they become 13 years old. It ends when they become 20 years old. Teenagers who are between 13 and 17 years old are considered both children and teenagers in most countries. Teenagers who are 18 and 19 years old may be regarded as both teenagers\", \"x\": 3.630807399749756, \"y\": 2.357318878173828}, {\"title\": \"Provinces and territories of Canada\", \"text\": \"Canada is a country and sovereign state in the north of North America. It is made up of thirteen administrative divisions: ten provinces and three territories.\", \"x\": 4.88740348815918, \"y\": 1.6449525356292725}, {\"title\": \"Global warming\", \"text\": \"Global warming is the current rise in temperature of the air and oceans. It is happening mainly because humans burn coal, oil, and natural gas; and cut down forests. Average temperatures today are about higher than before people started burning a lot of coal around 1750. In some parts of the world it is less and some more. Most climate scientists say that by the year 2100 temperatures will be to higher than they were before 1750.\", \"x\": 3.4892663955688477, \"y\": 1.4751275777816772}, {\"title\": \"India\", \"text\": \"India (Hindi: ), officially the Republic of India (Hindi: ) and also known as Hindustan or Bh\\u0101rat within the country, is a country in South Asia. It is the second largest country by number of people and seventh largest country by land area . It also has the most people of any democracy in the world. India is a peninsula, bounded by the Indian Ocean on the south, the Arabian Sea on the southwest, and the Bay of Bengal on the southeast. It has six neighbors: Pakistan in the north-west, China, Nepal, and Bhutan in the north, and Bangladesh and\", \"x\": 4.58478307723999, \"y\": 1.0471230745315552}, {\"title\": \"Adolf Hitler Uunona\", \"text\": \"Adolf Hitler Uunona is a Namibian anti-Apartheid activist and politician who has been serving as the councilor of the South-West Africa People\\u2019s Organization several times since 2004. He gained attention in 2020 when news sources wrote he had been named after Nazi dictator Adolf Hitler.\", \"x\": 1.2912774085998535, \"y\": 3.526111602783203}, {\"title\": \"Knights of the Round Table\", \"text\": \"The Knights of the Round Table were characters in the legends about King Arthur. They were the best knights in King Arthur's kingdom, and lived in King Arthur's castle, Camelot. They were called the Knights of the \\\"Round Table\\\" because of a special table that was in Camelot, that was round instead of rectangular. This meant that everyone who sat around it was seen as trustworthy and equal.\", \"x\": 2.838839054107666, \"y\": 2.807429552078247}, {\"title\": \"English language\", \"text\": \"English is a language that started in Anglo-Saxon England. It is originally from Anglo-Frisian and Old Saxon dialects. English is now used as a global language. There are about 375 million native speakers (people who use it as their first language) in the world.\", \"x\": 2.679857015609741, \"y\": 0.3248240649700165}, {\"title\": \"Color of the day\", \"text\": \"Thai astrology has a color of the day for each day of the week. The color is based on the color of the God who protects the day or Navagraha. For example, the God of Sunday is Surya which has as the red color. These colors of the day are the traditional Thai birthday colors. For example, King Bhumibol Adulyadej was born on Monday, so on his birthday places in Thailand will be decorated with the color yellow.\", \"x\": 2.2515642642974854, \"y\": 2.0084316730499268}, {\"title\": \"Ed Lauter\", \"text\": \"Edward Matthew \\\"Ed\\\" Lauter II (October 30, 1938 \\u2013 October 16, 2013), known as Ed Lauter, was an American actor and stand-up comedian. He was known for his roles in \\\"Family Plot\\\", \\\"Cujo\\\", \\\"Death Wish III\\\", \\\"Born on the Fourth of July\\\", \\\"\\\", \\\"The Number 23\\\", and in \\\"Trouble with the Curve\\\".\", \"x\": 0.6690370440483093, \"y\": 3.6366918087005615}, {\"title\": \"12-hour clock\", \"text\": \"The 12-hour clock is a way of dividing the 24 hours of the day into two sections. The two halves are called ante meridiem (a.m.) and post meridiem (p.m.).\", \"x\": 3.214236259460449, \"y\": 0.799077033996582}, {\"title\": \"United States\", \"text\": \"The United States of America (U.S.A or USA), commonly known as the United States (U.S or US) or America, is a sovereign country mostly in North America. It is divided into 50 states. Forty-eight of these states and the District of Columbia border each other between the Pacific and Atlantic Oceans. They are bordered by Canada to the north and Mexico to the south. The state of Alaska is in the northwestern area of the continent and is separated from the other 48 states by Canada making it an exclave. Alaska is bordered by Canada to its east and south\", \"x\": 4.647017955780029, \"y\": 1.6247562170028687}, {\"title\": \"United States presidential line of succession\", \"text\": \"The United States presidential line of succession is the order in which government officials replace the president of the United States if the president leaves office before an elected successor is inaugurated. If the president dies, resigns or is removed from office, the vice president becomes president for the rest of the term. If the vice president is unable to serve, the Speaker of the House acts as president.\", \"x\": 2.076441526412964, \"y\": 3.978271484375}, {\"title\": \"Arabic language\", \"text\": \"Arabic (\\u0627\\u0644\\u0639\\u0631\\u0628\\u064a\\u0629, \\\"al-\\u02bfarabiyyah\\\") is a Semitic language, like Hebrew and Aramaic that first appeared in the mid-ninth century BCE in Northern Arabia and southern Levant. Unlike the latter two, where the former drives from the other, however, Arabic is itself a root language, like Latin. Unlike Latin, it is still widely used and spoken today. Around 292 million people speak it as their first language. Many more people can also understand it as a second language. The Arabic language is written from right to left in a consonant alphabet, which is also called an abjad. Since it is so widely\", \"x\": 2.716261625289917, \"y\": 0.6069308519363403}, {\"title\": \"Elon Musk\", \"text\": \"Elon Reeve Musk (born June 28, 1971) is a South African-Canadian-American businessman. He was born in South Africa. He moved to Canada and later became a U.S. citizen. Musk is the current CEO & Chief Product Architect of Tesla, Inc., a company that makes electric vehicles. He is also the CEO of Solar City, a company that makes solar panels, and the CEO & CTO of SpaceX, an aerospace company. In 2022, he became the owner of the social media site Twitter after buying it for USD $44 billion.\", \"x\": 1.8233431577682495, \"y\": 3.295891046524048}, {\"title\": \"Republican Party (United States)\", \"text\": \"The United States Republican Party is one of the two dominant political parties in the United States of America, along with the Democratic party, the Republican Party's main opponent. The United States has many other small parties known as third parties.\", \"x\": 4.465299606323242, \"y\": 2.415235757827759}, {\"title\": \"Leet\", \"text\": \"Leet (sometimes written as \\\"1337\\\" or \\\"l33t\\\"), also known as eleet or leet-speak, is another alphabet for the English language that is used mostly on the internet. It uses various combinations of ASCII characters to replace Latinate letters. For example, leet spellings of the word \\\"leet\\\" include \\\"1337\\\" and \\\"l33t\\\"; \\\"eleet\\\" may be spelled \\\"31337\\\" or \\\"3l33t\\\". It is used on the internet in forums, chat rooms and online games.\", \"x\": 2.394472599029541, \"y\": 0.41519027948379517}, {\"title\": \"Luka Magnotta\", \"text\": \"Luka Rocco Magnotta (born Eric Clinton Kirk Newman; July 24, 1982) is a convicted Canadian murderer. He was convicted of murdering and dismembering Jun Lin and mailing his severed limbs to different political parties and elementary schools. Lin was a Chinese international student.\", \"x\": 0.7840887308120728, \"y\": 3.9458789825439453}, {\"title\": \"Democratic Party (United States)\", \"text\": \"The United States Democratic Party is one of the two biggest political parties in the United States of America. The other is the Republican Party, which is the Democratic Party's main opponent. The U.S. also has several smaller political parties known as third parties. Members of this party are known as Democrats.\", \"x\": 4.394206523895264, \"y\": 2.355008840560913}, {\"title\": \"Eastern Time Zone\", \"text\": \"Eastern Time Zone (ET) is the time zone for the eastern part of the Americas including the United States, Canada and parts of South America and the Caribbean. ET is five hours behind UTC in winter, which is called Eastern Standard Time (EST). It is four hours behind UTC during summer Daylight saving time, when it is called Eastern Daylight Time (EDT).\", \"x\": 4.615095615386963, \"y\": 0.5770803093910217}, {\"title\": \"Taj Mahal\", \"text\": \"The Taj Mahal is an Islamic religious building, mosque and tomb in India, built in the 17th century by king Shah Jahan in memory of his wife, Mumtaz Mahal. Its chief architect was Ustad Ahmad Lahauri.\", \"x\": 2.9394783973693848, \"y\": 3.4758095741271973}, {\"title\": \"Academic grading in Philippines\", \"text\": \"The Philippines has varied university grading systems. Most colleges, universities, particularly public institutions, follow the grade point system scale of 5.00 - 1.00, in which 1.00 is the highest grade and 5.00 is the lowest possible grade.\", \"x\": 2.097276210784912, \"y\": 0.4751542806625366}, {\"title\": \"Phases of the Moon\", \"text\": \"As the Moon orbits around the Earth, the half of the Moon that faces the Sun will be lit up. The different shapes of the lit portion of the Moon that can be seen from Earth are known as phases of the Moon. Each phase repeats itself every 29.5 days.\", \"x\": 2.8041739463806152, \"y\": 1.1620762348175049}, {\"title\": \"Nelson Mandela\", \"text\": \"Nelson Rolihlahla Mandela (18 July 1918 \\u2013 5 December 2013) was a South African politician and activist. On April 27, 1994, he was made the first President of South Africa elected in a fully represented democratic election. He was also the first black President of his country, South Africa.\", \"x\": 1.1786593198776245, \"y\": 3.622093439102173}, {\"title\": \"Tree\", \"text\": \"A tree is a tall plant with a trunk and branches made of wood. Trees can live for many years. The oldest tree ever discovered is approximately 5,000 years old and the oldest tree from the UK is about 1,000. The four main parts of a tree are the roots, the trunk, the branches, and the leaves.\", \"x\": 3.515721082687378, \"y\": 2.52595853805542}, {\"title\": \"Rabindranath Tagore\", \"text\": \"Rabindranath Tagore (), popularly called \\\"Kabiguru\\\", was born on 7 May 1861. His name is written as Rabindranath Tagore in many languages of India. He was a poet, philosopher, and artist. He wrote many stories, novels, poems, and dramas. He is also very well known for composing music. He wrote national anthem of two countries India and Bangladesh. His writings greatly influenced Bengali culture during the late 19th century and early 20th century. In 1913, he became the first Asian to win the Nobel Prize in Literature.\", \"x\": 1.4054120779037476, \"y\": 2.6885437965393066}, {\"title\": \"World War II\", \"text\": \"World War II (WWII or WW2) was a global war that involved fighting in most of the world. Most countries fought from 1939 to 1945, but some started fighting in 1937. Most of the world's countries, including all of the great powers, fought as part of two military alliances: the Allies and the Axis Powers. It involved more countries, cost more money, involved more people, and killed more people than any other war in history. Between 50 to 85 million people died, most of whom were civilians. The war included massacres, a genocide called the Holocaust, strategic bombing, starvation, disease,\", \"x\": 3.505506753921509, \"y\": 1.178561806678772}, {\"title\": \"Odin\", \"text\": \"Odin (Old Norse: \\\"\\u00d3\\u00f0inn\\\") is the god of wisdom, poetry, death, divination, and magic in Norse mythology. Son of Borr and the giantess (j\\u00f6tunn) Bestla, Odin is the chief of the \\u00c6sir and king of Asgard. He is married to the goddess Frigg, and is father to the gods Thor, Baldr, H\\u00f6\\u00f0r, V\\u00ed\\u00f0arr, and V\\u00e1li.\", \"x\": 1.522896647453308, \"y\": 1.8098180294036865}, {\"title\": \"Palm tree\", \"text\": \"Palm tree is a common name of perennial lianas, shrubs, and trees. They are the only members of the family Arecaceae, which is the only family in the order Arecales. They grow in hot climates.\", \"x\": 3.825951099395752, \"y\": 2.203049898147583}, {\"title\": \"Green\", \"text\": \"Green is a colour between the yellow and blue colours in the rainbow. Green is a primary colour (a colour that can be mixed with another color) of light. The others are red and blue.\", \"x\": 3.833562135696411, \"y\": 1.4232844114303589}, {\"title\": \"Canada\", \"text\": \"Canada is a country in North America. It is to the north of the United States. Its land reaches from the Atlantic Ocean in the east to the Pacific Ocean in the west. The Arctic Ocean is to the north of Canada. Canada's land area is . It is the world's second largest country by total area, but only the fourth largest country by land area. It has the world's longest coastline (a border with water). Canada has ten provinces and three territories. Most parts of the country are cold or severely cold in the winter. Areas in the south\", \"x\": 5.069130897521973, \"y\": 1.723973035812378}, {\"title\": \"Shivaji\", \"text\": \"Chhatrapati Shivaji Maharaj was the founder of the Maratha Empire. Shivaji Bhonsale was born in the Shivneri Fort in Maharashtra on 19 February 1630 to mother Jijabai and father Shahaji Bhosale. It is said that mother Jijabai prayed to Lord Shiva in Shivneri Fort for a brave son and kept her son name as Shivaji after the Hindu god Shiva.\", \"x\": 2.1664175987243652, \"y\": 3.1323626041412354}, {\"title\": \"Dog\", \"text\": \"Dogs (\\\"Canis lupus familiaris\\\") are domesticated mammals, not natural wild animals. They were originally bred from wolves. They have been bred by humans for a long time and were the first animals ever to be domesticated. Remains dating to 30,000 years ago have been described as \\\"Paleolithic dogs\\\". Their status as dogs or wolves is unclear. Considerable morphological diversity existed among wolves in the Late Pleistocene. The dingo is also a dog, but many dingos have become wild animals again and live independently of humans in the range where they occur (parts of Australia).\", \"x\": 3.752514123916626, \"y\": 2.3412060737609863}, {\"title\": \"Twenty-second Amendment to the United States Constitution\", \"text\": \"The Twenty-second Amendment to the United States Constitution was an addition to the United States Constitution that put a limit on how many times a person could be elected to be President. A person is limited to being elected twice, or once if they have already served more than two years as President. Congress passed the amendment on March 1947. It was ratified on February 27, 1951.\", \"x\": 1.8063820600509644, \"y\": 4.307610034942627}, {\"title\": \"History of Christianity\", \"text\": \"The history of the Christian religion and the Christian church began with Jesus and his apostles,twelve disciples (students) of Jesus Christ for a mission. Christianity is the religion that is based on the birth, life, death, resurrection and teaching of Jesus Christ.\", \"x\": 2.156012773513794, \"y\": 1.307824969291687}, {\"title\": \"Spice Girls\", \"text\": \"The Spice Girls are a British girl group. The group formed in 1994. The group has five members. Each member uses a nickname initially given to them: Melanie Chisholm (\\\"Sporty Spice\\\"), Emma Bunton (\\\"Baby Spice\\\"), Melanie Brown (\\\"Scary Spice\\\"), Victoria Beckham (n\\u00e9e Adams) (\\\"Posh Spice\\\"), and Geri Halliwell (\\\"Ginger Spice\\\") . They were signed to Virgin Records. The Spice Girls released their debut single, \\\"Wannabe\\\" in 1996. It hit number-one in more than 30 countries. The song helped make the group as a global phenomenon. The group is credited for starting the trend of commercial success of teen pop in\", \"x\": 3.112921953201294, \"y\": 2.6197381019592285}, {\"title\": \"Adolf Hitler\", \"text\": \"Adolf Hitler (20 April 1889 \\u2013 30 April 1945) was an Austrian-born German politician and the leader of the Nazi Party from 1933 until his death in 1945. He and his Nazi government are known for causing World War II and the Holocaust. Millions of people were killed in these events.\", \"x\": 1.1104557514190674, \"y\": 3.5253782272338867}, {\"title\": \"Golden Edge\", \"text\": \"Golden Edge (formerly Golden 2) is a Latin American subscription television channel of Mexican origin, owned by Televisa, operated by its subsidiary Televisa Networks.\", \"x\": 4.0052409172058105, \"y\": 2.9094371795654297}, {\"title\": \"Hexadecimal\", \"text\": \"The hexadecimal numeral system, often shortened to \\\"hex\\\", is a numeral system made up of 16 symbols (base 16). The standard numeral system is called decimal (base 10) and uses ten symbols: 0,1,2,3,4,5,6,7,8,9. Hexadecimal uses the decimal numbers and six extra symbols. There are no numerical symbols that represent values greater than nine, so letters taken from the English alphabet are used, specifically A, B, C, D, E and F. Hexadecimal A = decimal 10, and hexadecimal F = decimal 15.\", \"x\": 2.1990866661071777, \"y\": 0.581892728805542}, {\"title\": \"Care Bears\", \"text\": \"The Care Bears are a very successful toy franchise from the 1980s. Over forty million of these stuffed teddy bears, made with a variety of colours, were sold from 1983 to 1987. Each Bear had a name, a job, and a symbol tied to it. For example, Funshine Bear helps people wake up, and has a sun on his stomach.\", \"x\": 3.1140549182891846, \"y\": 2.6447699069976807}, {\"title\": \"Political parties in the United States\", \"text\": \"In the United States of America, there has usually only been two main political parties. But there are more than a 100 different varieties with varying viewpoints of the two main parties. Since the 1860s, the two main parties have been the Republican Party and the Democratic Party. The Democratic Party has the most seats in the House of Representatives while the Republicans and Democrats split the Senate at 50 Senators each. The Vice President, a Democrat, holds a tie breaking vote, in the United States Senate.\", \"x\": 4.234213829040527, \"y\": 1.985635757446289}, {\"title\": \"Virat Kohli\", \"text\": \"Virat Kohli first came into the limelight in 2008, when he led the Indian U-19 cricket team to victory in 2008 U-19 Cricket World Cup He soon made his debut for the Indian team in August 2008. during a ODI match against in Sri Lanka. Virat also became one of the valuable Indian captain in Test cricket with 27 test wins, 12 overseas test wins and highest winning percentage as captain in both Tests and ODIs. Kohli was ranked eighth in ESPN's list of world's most famous sportspeople in 2016. Virat is the only current player to have a stand\", \"x\": 1.9141823053359985, \"y\": 2.7642736434936523}, {\"title\": \"Diwali\", \"text\": \"Diwali (also: Deepawali) is one of India's biggest festivals. The word 'Deepawali' means rows of lighted lamps. It is a Festival of Lights and Hindus celebrate it with joy. During this festival, people light up their houses and shops with Diyas (small cup-shaped oil lamp made of baked clay). They worship the Lord Ganesha for welfare and prosperity and Goddess Lakshmi for wealth and wisdom.\", \"x\": 2.39320707321167, \"y\": 1.9403622150421143}, {\"title\": \"Russia\", \"text\": \"Russia (), officially called the Russian Federation () is a country in Eastern Europe and North Asia, spanning from the Baltic Sea to the Bering Strait. It is the largest country in the world, followed by Canada, the United States, and China. Russia's population is about 146.7 million people. It is the most populous country in Europe. Moscow is its capital city, which is also the largest city in Europe. Russia's official language is Russian, the most spoken language in Europe, as well as the most widely spoken Slavic language.\", \"x\": 5.32993745803833, \"y\": 1.197768211364746}, {\"title\": \"Lionel Messi\", \"text\": \"Lionel Andr\\u00e9s \\\"Leo\\\" Messi Cuccittini (Spanish pronunciation: [ljo\\u02c8nel an\\u02c8d\\u027ees \\u02c8mesi]) (born 24 June 1987) is an Argentine footballer. He plays for Ligue 1 club Paris Saint-Germain and the Argentina national team as a forward.\", \"x\": 2.119101047515869, \"y\": 3.082533597946167}, {\"title\": \"Bismillahir Rahmanir Raheem\", \"text\": \"In the Name of God the Merciful, the Compassionate or Bismillahir Rahmanir Raheem (Arabic: '\\u0628\\u0650\\u0633\\u0652\\u0645\\u0650 \\u0671\\u0644\\u0644\\u064e\\u0651\\u0670\\u0647\\u0650 \\u0671\\u0644\\u0631\\u064e\\u0651\\u062d\\u0652\\u0645\\u064e\\u0670\\u0646\\u0650 \\u0671\\u0644\\u0631\\u064e\\u0651\\u062d\\u0650\\u064a\\u0645\\u0650) is an Arabic phrase meaning \\\"in the name of God, Most Gracious, Most Merciful . \\\" Bismillah is abbreviated. The Holy Qur'an 114 of Surah Al-repentance other than the rest of the chapter 113 has been started, \\\"Bismillahir Rahmanir Rahim with\\\". It is alsoknown from the hadith that the Prophet of Islam, Muhammad ,used to say \\\"Bismillahir Rahmanir Raheem\\\" \\u200b\\u200bbefore starting any work. In many works \\\"Bismillahir Rahmanir Raheem\\\" There are instructions to say or write. In legal terms, even if it\", \"x\": 1.8903216123580933, \"y\": 1.9860305786132812}, {\"title\": \"Partition of India\", \"text\": \"The Partition of India divided British India into the countries of India and Pakistan (East and West Pakistan) in 1947. That was part of the end of British Raj, British rule in the Indian subcontinent. One reason for partition was the two-nation theory, which was presented by Syed Ahmed Khan and stated that Muslims and Hindus were too different to be in one country. Pakistan became a Muslim country. India became a majority Hindu country and became nominally secular country in 1974 when the word 'secular' was added to the Preamble of Indian Constitution.\", \"x\": 3.706239700317383, \"y\": 0.4909008741378784}, {\"title\": \"MS Dhoni\", \"text\": \"Mahendra Singh Dhoni, commonly known as MS Dhoni and Mahi, is an Indian cricketer player and was a former captain of the Indian cricket team. Dhoni is a right-handed batsman.\", \"x\": 1.8275161981582642, \"y\": 2.886509656906128}, {\"title\": \"B. R. Ambedkar\", \"text\": \"Bhimrao Ramji Ambedkar was born on (14 April 1891 \\u2013 6 December 1956), popularly known as Dr. Babasaheb Ambedkar was an Indian jurist, economist, politician and social reformer. He inspired the Dalit Buddhist Movement and campaigned against social discrimination against Untouchables (Dalits), and also supported the rights of women and labour. He was independent India's first law minister, the principal architect of the Constitution of India.\", \"x\": 1.404425859451294, \"y\": 3.031951904296875}, {\"title\": \"Srinivasa Ramanujan\", \"text\": \"Srinivasa Ramanujan Aiyangar (December 22, 1887 \\u2013 April 26, 1920) was an Indian mathematician. His father's name was K. Srinivasa Iyengar and his mother's name was Komalatammal. On 1st October 1892 Ramanujan was enrolled at local school. He had no formal training in mathematics. However, he has made a large contribution to number theory, infinite series and [[continued fraction]\", \"x\": 1.356411337852478, \"y\": 2.945835590362549}, {\"title\": \"United Kingdom\", \"text\": \"The United Kingdom of Great Britain and Northern Ireland or simply the United Kingdom (UK) is a sovereign country in Western Europe. It is a constitutional monarchy that is made up of four separate countries: England, Wales, Scotland and Northern Ireland. It is a member of the United Nations, the Commonwealth, NATO, the G8, and formerly the EU. It had the sixth largest economy in the world by nominal GDP in 2019.\", \"x\": 4.776854515075684, \"y\": 1.5008323192596436}, {\"title\": \"Vishnu\", \"text\": \"Vishnu is the supreme godhead of Vaishnavism (Para Brahman or Nirguna Brahman) in puranas. He is called \\\"Swambhagwan\\\" in the Ramayana and Mahabharata. Vishnu is one of the three main gods in Hinduism and is the supreme being in the Vaishnava tradition. Vishnu is a member of the Trimurti in Hinduism.\", \"x\": 1.8977291584014893, \"y\": 1.8817071914672852}, {\"title\": \"Australia\", \"text\": \"Australia, formally the Commonwealth of Australia, is a country and sovereign state in the southern hemisphere, located in Oceania. Its capital city is Canberra, and its largest city is Sydney.\", \"x\": 4.935046672821045, \"y\": 1.4120936393737793}, {\"title\": \"Greek numerals\", \"text\": \"Greek numerals are a system of representing numbers using letters of the Greek alphabet. They are also known by the names \\\"Milesian numerals\\\", \\\"Alexandrian numerals\\\", or \\\"alphabetic numerals\\\". In modern Greece, they are still in use for ordinal numbers, and in much of the same way that Roman numerals are in the West; for ordinary (cardinal) numbers, Arabic numerals are used.\", \"x\": 1.991012692451477, \"y\": 0.7073584794998169}, {\"title\": \"Prince (musician)\", \"text\": \"Prince Rogers Nelson (better known as Prince) (June 7, 1958 \\u2013 April 21, 2016) was an American musician and dancer. He was born in Minneapolis, Minnesota.\", \"x\": 0.9756647944450378, \"y\": 3.168778657913208}, {\"title\": \"Paris\", \"text\": \"Paris (nicknamed the \\\"\\\"City of light\\\"\\\") is the capital city of France, and the largest city in France. The area is , and around 2.15 million people live there. If suburbs are counted, the population of the Paris area rises to 10.7 million people. It is the most densely populated city in the European Union, with 20.653 people per square kilometer.\", \"x\": 4.75239896774292, \"y\": 2.001163959503174}, {\"title\": \"Judaism\", \"text\": \"Judaism (Hebrew: \\u05d9\\u05d4\\u05d3\\u05d5\\u05ea) is the world's oldest Abrahamic religion. It is almost 4,000 years old and originated in Israel. There are about 15 million followers. They are called Jews or Jewish people. It is the oldest monotheistic religion. The Torah is the most important holy book of Judaism. The laws and teachings of Judaism come from the Torah, the first five books of the Hebrew Bible and oral traditions. Some of these were first oral traditions and later written in the Mishnah, the Talmud, and other works.\", \"x\": 2.0317113399505615, \"y\": 1.3649905920028687}, {\"title\": \"Watergate scandal\", \"text\": \"A United States President and Republican, Richard Nixon was running for election against Democrat George McGovern. Afterwards, Frank Wills, a security guard, discovered clues that former FBI and CIA agents broke into the offices of the Democratic Party and George McGovern months before the election. They secretly listened to phone lines and stole several important documents.\", \"x\": 1.2248440980911255, \"y\": 4.087780475616455}, {\"title\": \"Baskin-Robbins\", \"text\": \"Baskin-Robbins is an international chain of ice cream parlors. It has franchises in more than 30 countries. Out of 5800 locations, 2800 are based in the United States. It was founded in 1953 by the merger of two separate ice cream ventures of Burt Baskin and Irv Robbins, who were brothers-in-law. Before the merger, the two separate ice cream ventures were called Burt\\u2019s Ice Cream Shop and Snowbird Ice Cream. Snowbird Ice cream had 21 flavors at the time, which was praised as novel and fresh.\", \"x\": 3.022857427597046, \"y\": 2.7527191638946533}, {\"title\": \"Frank O'Connor\", \"text\": \"Charles Francis O'Connor (September 22, 1897 \\u2013 November 9 1979), called Frank O'Connor, was an American actor and painter. He was the husband of writer Ayn Rand.\", \"x\": 0.7567543983459473, \"y\": 3.559648036956787}, {\"title\": \"Leonardo da Vinci\", \"text\": \"Leonardo da Vinci (15 April 1452 \\u2013 2 May 1519) was an Italian man who lived in the time of the Renaissance. He is famous for his paintings, but he was also a scientist, mathematician, engineer, inventor, anatomist, sculptor, architect, botanist, musician, and a writer.\", \"x\": 1.0703270435333252, \"y\": 2.629847764968872}, {\"title\": \"History of chess\", \"text\": \"The history of chess goes back almost 1500 years. The game originated in northern India in the 6th century and spread to Persia. When the Arabs conquered Persia, chess was taken up by the Muslim world and subsequently, through the Moorish conquest of Spain, spread to Southern Europe. But in early Russia, the game came directly from the Khanates (muslim territories) to the south.\", \"x\": 2.333773374557495, \"y\": 2.5492563247680664}, {\"title\": \"Amanda Anka\", \"text\": \"Amanda Katherine Anka-Bateman (born December 10, 1968 in New York City, USA) is an American movie, television, and voice actress.\", \"x\": 0.5251307487487793, \"y\": 3.3895134925842285}, {\"title\": \"Dance of the Sugar Plum Fairy\", \"text\": \"The \\\"Dance of the Sugar Plum Fairy\\\" is a dance for a ballerina. It is the third movement in \\\"The Nutcracker pas de deux\\\". This \\\"pas de deux\\\" is from Act 2 of the 1892 ballet \\\"The Nutcracker\\\". It is danced by the principal female dancer. The number was choreographed by Lev Ivanov to music written by Tchaikovsky.\", \"x\": 2.6566689014434814, \"y\": 2.484189748764038}, {\"title\": \"N-type semiconductor\", \"text\": \"It is made by adding an impurity to a pure semiconductor such as silicon or germanium. The impurities used may be phosphorus, arsenic, antimony, bismuth or some other chemical element. They are called donor impurities.\", \"x\": 2.729140043258667, \"y\": 2.248579978942871}, {\"title\": \"BTS\", \"text\": \"BTS or Bangtan Boys (), is a South Korean boy band made up of seven members. They were created by Big Hit Entertainment in 2013. The members include RM, Jin, Suga, J-Hope, Jimin, V, and Jungkook. The group debuted on June 13, 2013 with their EP 2 Cool 4 Skool. They have since released 5 Korean studio albums: \\\"Dark & Wild\\\" (2014); \\\"Wings\\\" (2016); \\\"Love Yourself: Tear\\\" (2018); \\\"Map of the Soul: 7\\\" (2020); \\\" BE\\\" - (2020) and Proof (2022)\", \"x\": 3.241987705230713, \"y\": 2.9517743587493896}, {\"title\": \"Japan\", \"text\": \"Japan (; Romanised as \\\"nihon\\\" or \\\"nippon\\\") is a country in East Asia. It is a group of many islands close to the east coast of Korea, China and Russia. The Pacific Ocean is to the east of Japan and the Sea of Japan is to the west. Most people in Japan live on one of the four islands. The biggest of these islands, Honshu, has the most people. Honshu is the 7th largest island in the world. Tokyo is the capital of Japan and its biggest city.\", \"x\": 5.275517463684082, \"y\": 1.0398383140563965}, {\"title\": \"P-type semiconductor\", \"text\": \"A p-type semiconductor is an type of semiconductor. When a trivalent impurity (like Boron, Aluminum etc.) is added to an intrinsic or pure semiconductor (silicon or germanium), it is said to be a p-type semiconductor. Trivalent impurities such as boron (B), gallium (Ga), indium (In), aluminum (Al) etc. are called acceptor impurity. Ordinary semiconductors are made of materials that do not conduct (or carry) an electric current very well but are not highly resistant to doing so. They fall half way between conductors and insulators. An electric current occurs when electrons move through a material. In order to move, there\", \"x\": 2.682373523712158, \"y\": 2.183751106262207}, {\"title\": \"States of Germany\", \"text\": \"The Federal Republic of Germany (FRG) has 16 states (). The biggest is Bavaria and the smallest is Bremen. Most of them were created after the Second World War, although their historical roots can be traced back to the early Middle Ages in some cases.\", \"x\": 4.868858814239502, \"y\": 1.2544277906417847}, {\"title\": \"Mother Teresa\", \"text\": \"Mother Teresa (26 August 1910 \\u2013 5 September 1997), was an Albanian Roman Catholic nun who started the Missionaries of Charity and won the Nobel Peace Prize in 1979 for her work with people. For over forty years, she took care of needs of those without money, those who were sick, those without parents, and those dying in Calcutta (Kolkata), guided in part by the ideals of Saint Francis of Assisi. She was born in Skopje, Macedonia, and died in Calcutta.\", \"x\": 0.8030229210853577, \"y\": 2.93790602684021}, {\"title\": \"Bangladesh\", \"text\": \"Bangladesh (officially called People's Republic of Bangladesh) is a country in South Asia. To its west is West Bengal in India. To its northeast is Northeast India and to its southeast is the Southeast Asian country of Myanmar. Bangladesh's capital and largest city is Dhaka (formerly \\\"Dacca\\\"). Countries that are near Bangladesh include the People's Republic of China, Bhutan, and Nepal. To the south of Bangladesh is the Bay of Bengal.\", \"x\": 4.588881492614746, \"y\": 1.0954804420471191}, {\"title\": \"Turkey\", \"text\": \"Turkey officially the Republic of T\\u00fcrkiye, is a transcontinental country located mainly on the Anatolian Peninsula in Western Asia, with a small portion on the Balkan Peninsula in Southeast Europe. It shares borders with the Black Sea to the north; Georgia to the northeast; Armenia, Azerbaijan, and Iran to the east; Iraq to the southeast; Syria and the Mediterranean Sea to the south; the Aegean Sea to the west; and Greece and Bulgaria to the northwest.\", \"x\": 5.36779260635376, \"y\": 1.2640056610107422}, {\"title\": \"Call of Duty series\", \"text\": \"Call of Duty was a game series started in the early 2000s. The shorter form of the name; typically used, is CoD. The first 6 games are about World War II, but the series began branching out beginning with \\\"Modern Warfare\\\". The series now spans World War II, the Cold War, the present, the near future, and the far future. The \\\"Modern Warfare\\\" series takes place in present times and is developed by Infinity Ward. Infinity Ward also created \\\".\\\" The \\\"Black Ops\\\" series takes place in the secret missions of the Cold War and in the future, and is\", \"x\": 3.425145149230957, \"y\": 0.9322853684425354}, {\"title\": \"Mahatma Gandhi\", \"text\": \"Mohandas Karamchand Gandhi (; ; 2 October 1869 \\u2013 30 January 1948) was a leader of nationalism in British-ruled India. He is more commonly called Mahatma Gandhi; \\\"mahatma\\\" is an honorific meaning \\\"great-soul\\\" or \\\"venerable\\\" in Sanskrit. He was first called this in 1914 in South Africa. He is also called Bapu in India (Gujarati endearment for \\\"father\\\", \\\"papa\\\").\", \"x\": 1.4103442430496216, \"y\": 3.1120893955230713}, {\"title\": \"California\", \"text\": \"California, officially the State of California, is a state in the western part of the United States, along the Pacific Ocean. It is the third biggest US state by land area (after Alaska and Texas) with 163,696 square mi (423,970 km). It has more people than any other state with over 39 million people as of 2019. It also has more people than Canada. Its largest cities are Los Angeles, San Diego, San Jose, and San Francisco. The capital is Sacramento. The states around its borders are Arizona to the southeast, Oregon to the north, Nevada to the east, and\", \"x\": 4.781557559967041, \"y\": 1.4238805770874023}, {\"title\": \"Asatru\", \"text\": \"Asatru (Icelandic: \\u00c1satr\\u00fa) is a religion which involves the worship of ancient Germanic and Scandinavian Viking spirits and gods. It received official legal establishment in 1970s in Iceland through the efforts of and other Icelanders, who rejected Christianity and performed \\\"Launbl\\u00f3t\\\" (secret offering) to pre-\\\"Kristnitaka\\\" (Christianization of Iceland) Nordic gods and goddesses. The current recognized national organization of Asatru in Iceland is \\u00c1satr\\u00faarf\\u00e9lagi\\u00f0. The name is derived from two Old Norse words. It means \\\"faith in the \\u00c6sir,\\\" the Germanic and Viking gods.\", \"x\": 1.6787173748016357, \"y\": 1.5493078231811523}, {\"title\": \"Tempo\", \"text\": \"Tempo (Italian for 'time, movement') is the speed of a song or piece of music. It is measured in beats per minute, or BPM. For example, if a song has 4 beats per bar at 100 BPM, there will be 25 bars per minute.\", \"x\": 3.0220158100128174, \"y\": 2.1507880687713623}, {\"title\": \"Albert Einstein\", \"text\": \"Albert Einstein (14 March 1879 \\u2013 18 April 1955) was a German-born American scientist. He worked on theoretical physics. He developed the theory of relativity. He received the Nobel Prize in Physics in 1921 for theoretical physics.\", \"x\": 0.8543480038642883, \"y\": 2.802682876586914}, {\"title\": \"Charminar\", \"text\": \"The Charminar is a monument and mosque in Hyderabad, India. The structure was built in 1591 AD. It is the most famous building of Hyderabad and also one of the most famous buildings in India. It was built by Muhammad Quli Qutb Shahi to celebrate the end of a deadly plague. The Charminar lies near the bank of the river Musi. It is close to Laad Bazaar and Makkah Masjid. Charminar is taken from two words \\\"Char\\\" and \\\"Minar\\\" which translate as \\\"Four Towers\\\" in English.\", \"x\": 3.2235543727874756, \"y\": 3.699599504470825}, {\"title\": \"Tipu Sultan\", \"text\": \"Tipu Sultan (1 December 1751 \\u2013 4 May 1799), is also known as the Tiger of Mysore, was the ruler of the Mysore from 1782 to 1799. He was also a scholar, soldier and poet. Tipu was the eldest son of Sultan Hyder Ali and his wife Fathima Fakhr-un-Nisar. Tipu Sultan was born in Devanahalli in 1751. The birthplace of Tipu Sultan, located very close to the Devanahalli Fort is just a small pillared closed place with a stone tablet which declares the place to be the birthplace of Tipu Sultan. The area around the place is known as Khas\", \"x\": 2.3420979976654053, \"y\": 3.3769001960754395}, {\"title\": \"Orange (fruit)\", \"text\": \"The term orange may refer to a number of citrus trees that produces fruit for people to eat. Oranges are a very good source of Vitamin C. Orange juice is an important part of many people's breakfast. The \\\"sweet orange\\\", which is the kind that are most often eaten today, grew first in South and East Asia but now grows in lots of parts of the world.\", \"x\": 3.738173484802246, \"y\": 2.027491807937622}, {\"title\": \"Spain\", \"text\": \"Spain is a country in Southern Europe. It is in the Iberian Peninsula. Spain has borders with France, Portugal, Andorra and Gibraltar. Ceuta and Melilla border with Morocco in North Africa. In Spain's northeast side are the Pyrenees mountains.\", \"x\": 5.235692024230957, \"y\": 1.3615930080413818}, {\"title\": \"Italy\", \"text\": \"Italy ( ]) is a country in Southern Europe. It is a member of the European Union. Its official name is Repubblica Italiana. The Italian flag is green, white and red. Italy is a democratic republic.\", \"x\": 5.059868812561035, \"y\": 1.298275351524353}, {\"title\": \"Central Time Zone\", \"text\": \"The Central Time Zone subtracts six hours from UTC during standard time (UTC\\u22126) and five hours during daylight saving time (UTC\\u22125).\", \"x\": 4.324989318847656, \"y\": 0.47881507873535156}, {\"title\": \"Pakistan\", \"text\": \"Pakistan is a country in South Asia. It is next to India, Iran, Afghanistan, and China. It is officially called the Islamic Republic of Pakistan. It has a long coastline along the Arabian Sea in the south. Pakistan has the fifth largest population (207.77 million) in the world. Pakistan has a total land area of (including the Pakistani controlled territories of Azad Kashmir and Gilgit Baltistan). This makes Pakistan the 34th largest country in the world. Pakistan has the seventh largest army in the world. The capital of Pakistan is Islamabad. Before 1960, it was Karachi, which is now the\", \"x\": 4.660599231719971, \"y\": 0.8181787729263306}, {\"title\": \"Los Angeles\", \"text\": \"Los Angeles (L.A.), officially the City of Los Angeles, is a city in Southern California, in the United States. There are 3,847,400 people living in the city, and over 18 million people in the L.A. region. The city has an area of . Los Angeles is the city with the second biggest population in the United States after New York, overtaking Chicago in the 1970s. It is also the biggest city of California. Due to being built on a fault line, which runs through the downtown, it has few skyscrapers and tall structures and is one of the most spread\", \"x\": 4.614879608154297, \"y\": 1.9374938011169434}, {\"title\": \"Elizabeth II\", \"text\": \"Elizabeth II (Elizabeth Alexandra Mary; 21 April 1926 \\u2013 8 September 2022) was Queen of the United Kingdom and the other Commonwealth realms until her death on 8 September 2022.\", \"x\": 2.421011209487915, \"y\": 3.893463134765625}, {\"title\": \"World War I\", \"text\": \"World War I (WWI or WW1), also called the First World War, began on July 28, 1914 and lasted until November 11, 1918. It was a global war and lasted exactly 4 years, 3 months and 2 weeks. Most of the fighting was in continental Europe.\", \"x\": 3.2143285274505615, \"y\": 1.4396055936813354}, {\"title\": \"Red Fort\", \"text\": \"The Red Fort (Lal Qila) is a monument built in 1648 that rises above Old Delhi. It was built by the Mughal Emperor Shah Jahan. The fort is located in the centre of Delhi, India. It is made of red stone and marble. It was built on the right bank of the Yamuna River.\", \"x\": 3.0283939838409424, \"y\": 3.6548900604248047}, {\"title\": \"Constitution of India\", \"text\": \"The Constitution of India is the supreme law in India . A Constitution is a set of rules and regulations guiding the administration of a country. The constitution of India is the framework for political principles, procedures and powers of the government. It is also the longest constitution in the world with 395 articles and 12 schedules. Originally it consisted of 395 Articles arranged under 22 Parts and 8 Schedules. Today after many amendments, it has 470 Articles and 12 schedules and 25 parts (According to 2021). The constitution was written on 26 November 1949, and was made the center\", \"x\": 2.5986480712890625, \"y\": 1.7344837188720703}, {\"title\": \"Television\", \"text\": \"A television set (also known as a television receiver or televisor or simply a television, TV set, TV receiver or TV) is a machine with a screen or set of lenses. Televisions receive broadcasting signals and change them into pictures and sound. The word \\\"television\\\" comes from the words tele (Greek for \\\"far away\\\") and vision (\\\"sight\\\").\", \"x\": 3.7768192291259766, \"y\": 2.4883272647857666}, {\"title\": \"Washington, D.C.\", \"text\": \"Washington, D.C. (also known as simply Washington or D.C., and officially as the District of Columbia) is the capital of the United States. It is a federal district. The President of the United States and many major national government offices are in the territory. This makes it the political center of the United States of America.\", \"x\": 5.0194854736328125, \"y\": 2.0790979862213135}, {\"title\": \"Great Wall of China\", \"text\": \"The Great Wall of China is an ancient wall in China. The wall is made of cement, rocks, bricks, and dirt. It was finished in 1878 and it was meant to protect the north of the empire of China from enemy attacks. It is the longest structure humans have ever built. It is about 21,196 kilometers long, wide and 15 metres high. The earlier sections on the wall are made of compacted dirt and stone. Later in the Ming Dynasty they used bricks. There are 7,000 watch towers, block houses for soldiers and beacons to send smoke signals.\", \"x\": 3.5305163860321045, \"y\": 3.503108501434326}, {\"title\": \"New York City\", \"text\": \"New York, often called New York City (NYC), is the largest city by population in the United States. It is at the southern end of the state of New York. New York's population is similar to Chicago in Illinois with over 8 million people currently living in it, and over 22 million people live in the bigger New York metropolitan area. It is the financial capital of the U.S. since it is home to the nation's stock market, Wall Street, and the One World Trade Center.\", \"x\": 4.846153259277344, \"y\": 2.3227105140686035}, {\"title\": \"Pythagoras\", \"text\": \"Pythagoras of Samos was a famous Greek mathematician and philosopher ( ). He is known best for the proof of the important Pythagorean theorem, which is about right angle triangles. He started a group of mathematicians, called the Pythagoreans, who worshiped numbers and lived like monks. He had an influence on Plato.\", \"x\": 1.2362667322158813, \"y\": 2.4436848163604736}, {\"title\": \"Computer monitor\", \"text\": \"A computer monitor is an electronic device that shows pictures for computers. Monitors often look like smaller televisions. The main difference between a monitor and a television is that a monitor does not have a television tuner to change channels. Monitors often have higher display resolution than televisions. A high display resolution makes it easier to see smaller letters and fine graphics.\", \"x\": 4.039556980133057, \"y\": 1.9209401607513428}, {\"title\": \"Ragnar\\u00f6k\", \"text\": \"In Norse mythology, Ragnar\\u00f6k which in Old Norse translates to \\\"Doom of the Gods\\\" is the battle at the end of the world. It is to be fought between the gods or \\u00c6sir, led by Odin; and the fire giants, the J\\u00f6tnar and other monsters, led by Loki and Surtr. Not only will most of the gods, giants, and monsters die in this battle, but almost everything in the universe will be destroyed.\", \"x\": 1.9914265871047974, \"y\": 1.5348700284957886}, {\"title\": \"Narendra Modi\", \"text\": \"Narendra Damodardas Modi (born 17 September 1950) is an Indian politician. He is the current Prime Minister of India serving since 2014. He was the 14th Chief Minister of the state of Gujarat. Modi was elected Prime Minister of India in May 2014. He is a member of the Bharatiya Janata Party.\", \"x\": 1.870516061782837, \"y\": 3.527932643890381}, {\"title\": \"Brihadeshwara Temple\", \"text\": \"Peruvudaiyar Kovil is a Hindu temple dedicated to Shiva, also called Rajarajesvaram temple or Peruvudaiy\\u0101r K\\u014dvil temple. It is located on the south side of Kaveri river in Thanjavur in the Indian state of Tamil Nadu. It is also known as \\\"Periya Kovil\\\", \\\"RajaRajeswara Temple\\\" and \\\"Rajarajeswaram\\\". It is one of the largest temples in India. Peruvudaiyaar Kovil is an example of Tamil architecture from the Chola period. It was built by Tamil King Raja Raja Chola I and completed in 1010 AD. The temple turned 1000 years old in 2010. The temple is part of the UNESCO World Heritage\", \"x\": 2.807141065597534, \"y\": 3.2679831981658936}, {\"title\": \"Urdu\", \"text\": \"Urdu, also known as Lashkari, or the Lashkari language (\\u0644\\u0634\\u06a9\\u0631\\u06cc \\u200d\\u0632\\u0628\\u0627\\u0646) is the national language of Pakistan and a recognized regional language in India. It is an Indo-Aryan language, meaning it descends from Proto-Indo-Aryan, a language spoken northeast of the Caspian Sea in the third millennia BC.\", \"x\": 2.859902858734131, \"y\": 0.5868282318115234}, {\"title\": \"Ten Commandments\", \"text\": \"The Ten Commandments are a set of rules or laws. The Bible says that God gave them to the people of Israel. The commandments exist in different versions. One version can be found in the Book of Exodus of the Bible. Another version can be found in the Book of Deuteronomy. In the Book of Exodus, the mountain where they were given is called Mount Sinai, the Book of Deuteronomy talks about Mount Horeb (the same Mt. Horeb where God called Moses from the burning bush, Exodus 3:1-3). Both are probably different names for the same mountain. The laws were\", \"x\": 2.234156847000122, \"y\": 1.5959484577178955}, {\"title\": \"Roe v. Wade\", \"text\": \"Roe v. Wade was a 1973 landmark decision by the US Supreme Court that ruled that a state law that banned abortion was unconstitutional. The decision said that a woman's right to privacy extended to the fetus that she was carrying. The court viewed that during the first trimester, an abortion was no more dangerous than carrying the fetus to full term. The 7-2 decision was supported by Chief Justice Warren E. Burger and six other Justices and was opposed by Justices William Rehnquist and Byron White.\", \"x\": 1.190127968788147, \"y\": 4.032242298126221}, {\"title\": \"Queen (band)\", \"text\": \"Queen are a British rock band formed in London in 1970. They are among the most commercially successful bands in history, selling over 300 million records worldwide. The original lineup consisted of Freddie Mercury (lead vocals, piano), Brian May (lead guitar, vocals), Roger Taylor (drums, vocals), and John Deacon (bass guitar).\", \"x\": 3.042208671569824, \"y\": 2.9940803050994873}, {\"title\": \"Christianity\", \"text\": \"Christianity is the largest world religion by number of followers (around 2.4 billion). Members of the religion are called Christians. Christians generally believe Jesus Christ to be the Son of God, the second person of the Trinity. It is an Abrahamic monotheistic religion, meaning it has only one God. It has its roots in Judaism. It is based on the life and teachings of Jesus.\", \"x\": 2.1087417602539062, \"y\": 1.6837607622146606}, {\"title\": \"Fortnite Battle Royale\", \"text\": \"Fortnite Battle Royale is a video game mode within Fortnite Battle Royale, released in 2017. The game is centered around being the last person alive. It also consists of a storm slowly moving towards a point on the map, dealing 10 damage per second. If a player is caught in the storm for too long, their character is eliminated. The game is so popular that one weekend there were 3.6 million people playing it. In the first year of Fortnite, Epic Games made a mode called Save the World which is Fortnite's main campaign. Fortnite is one of the most\", \"x\": 3.381103038787842, \"y\": 2.3855292797088623}, {\"title\": \"Conservative Party (UK)\", \"text\": \"The Conservative Party (informally as the Tory Party) is the main right-wing political party in the United Kingdom. Their policies usually promote conservatism and in recent years libertarianism. They are the largest party in the House of Commons after the 2019 United Kingdom general election, with 365 out of a possible 650 seats.\", \"x\": 4.406052112579346, \"y\": 2.579728603363037}, {\"title\": \"Burj Khalifa\", \"text\": \"Burj Khalifa (, \\\"\\\"Khalifa Tower\\\"\\\") is an extremely tall skyscraper in Dubai, United Arab Emirates named after Khalifa bin Zayed Al Nahyan, and is the tallest building ever built, at . Before the building opened, it was called Burj Dubai. The building is 162 stories high. Construction of the tower was started on 6 January 2004, and the building was officially opened on 4 January 2010, almost 6 years later. It is the tallest structure made by humans in the world. The building is more than taller than Taipei 101. Taipei 101 was the tallest building until 2010 before Burj\", \"x\": 3.335559368133545, \"y\": 3.490396738052368}, {\"title\": \"Airport\", \"text\": \"An international airport is a large airport that airplanes can use to fly to and from other countries. A domestic airport is an airport which is usually smaller and only has airplanes coming from different places in the same country. Most international airports have shops and restaurants for airplane passengers to use.\", \"x\": 3.9056122303009033, \"y\": 1.4935472011566162}, {\"title\": \"Continental United States\", \"text\": \"The continental United States is the area of the United States of America that is located in the continent of North America. It includes 49 of the 50 states (48 of which are located south of Canada and north of Mexico, known as the \\\"lower 48 states\\\", the other being Alaska) and the District of Columbia, which contains the federal capital, Washington, D.C. The only state which is not part of this is Hawaii (as they are islands in the Pacific Ocean and not part of North America).\", \"x\": 4.86799955368042, \"y\": 1.7945826053619385}, {\"title\": \"Christogram IHS\", \"text\": \"In Eastern Orthodox Church the Christogram is composed with letters \\\"X,\\\" \\\"P\\\", \\\"I\\\" and \\\"X\\\" arranged into the cross. They are the first letters of one from two words in Greek language: \\\"Christ\\\" and \\\"Jesus Christ\\\".\", \"x\": 1.5966451168060303, \"y\": 1.049331545829773}, {\"title\": \"Sun\", \"text\": \"The Sun is a star which is located at the center of our solar system. It is a yellow dwarf star that gives off different types of energy such as infra-red energy (heat), ultraviolet light, radio waves and light. It also gives off a stream of particles, which reaches Earth as \\\"solar wind\\\". The source of all this energy is nuclear fusion. Nuclear fusion is the reaction in the star which turns hydrogen into helium and makes huge amounts of energy.\", \"x\": 3.5816714763641357, \"y\": 1.5892186164855957}, {\"title\": \"Tsunami\", \"text\": \"A tsunami is a natural disaster which is a series of fast-moving waves in the ocean caused by powerful earthquakes, volcanic eruptions, landslides, or simply an asteroid or a meteor crash inside the ocean. A tsunami starts as a small wave and builds up into a larger wave., a tsunami starts suddenly. The waves travel at a great speed across an ocean with little energy loss. They can remove sand from beaches, destroy trees, toss and drag vehicles, houses and even destroy whole towns and cities. Tsunamis can even be caused when a meteorite strikes the earth's surface, though it\", \"x\": 3.199097156524658, \"y\": 1.878300428390503}, {\"title\": \"Boris Johnson\", \"text\": \"Alexander Boris de Pfeffel Johnson (born 19 June 1964) is a British politician and journalist. He was the Prime Minister of the United Kingdom, and the Leader of the Conservative Party from 23 July 2019 to 5 September 2022. Johnson has been the Member of Parliament for Uxbridge and South Ruislip since 2015. He represented the constituency of Henley from 2001 to 2008.\", \"x\": 1.8745579719543457, \"y\": 3.792625904083252}, {\"title\": \"Non-Aligned Movement\", \"text\": \"The Non-Aligned Movement (NAM) is an international organization (group of countries) who do not want to be officially aligned with or against any major power bloc (group of countries). In 2019, the movement had 120 members and 27 observers.\", \"x\": 4.314980506896973, \"y\": 0.47233280539512634}, {\"title\": \"Maslow's hierarchy of needs\", \"text\": \"Maslow\\u2019s hierarchy of needs was created by American psychologist Abraham Maslow in 1943. Maslow suggested that human needs could be put into five levels.\", \"x\": 0.9348577857017517, \"y\": 2.745525360107422}, {\"title\": \"Bacchus\", \"text\": \"Bacchus was the Roman god of agriculture, wine and fertility, equivalent to the Greek god Dionysus. Dionysus was said to be the last god to join the twelve Olympians. Supposedly, Hestia gave up her seat for him. His plants were vines and twirling ivy. He carried a pine cone-topped staff, and his followers were goat-footed Satyrs and Maenads, wild women who danced energetically during this festivals. Bacchus is the son of Jupiter.\", \"x\": 1.4078565835952759, \"y\": 1.6164815425872803}, {\"title\": \"Yoga\", \"text\": \"Yoga is an old discipline of Hindu philosophy from India. It is both spiritual and physical. Yoga uses breathing techniques, exercise and meditation. It helps to improve health and happiness. \\\"Yoga\\\" is the Sanskrit word for \\\"union\\\". Patanjali was a pioneer of classical yoga. He defined yoga as \\\"the cessation of the modification of the mind\\\" (\\\"stopping changing the mind\\\").\", \"x\": 1.727154016494751, \"y\": 1.059107780456543}, {\"title\": \"Batman Begins\", \"text\": \"Batman Begins is a 2005 superhero movie directed by Christopher Nolan and written by Nolan and David S. Goyer. Based on the fictional DC Comics character Batman, it stars Christian Bale, Michael Caine, Gary Oldman, Liam Neeson, Katie Holmes, Cillian Murphy, Tom Wilkinson, Rutger Hauer, Ken Watanabe, and Morgan Freeman. The movie reboots the \\\"Batman movie series\\\", telling the origin story of Bruce Wayne from the death of his parents to his journey to become Batman and his fight to stop Ra's al Ghul and the Scarecrow from plunging Gotham City into chaos.\", \"x\": 1.011001467704773, \"y\": 2.178300380706787}, {\"title\": \"A. P. J. Abdul Kalam\", \"text\": \"Avul Pakir Jainulabdeen Abdul Kalam (; ; 15 October 1931 \\u2013 27 July 2015) usually known as A.P.J. Abdul Kalam, was a famous Indian aerospace engineer. He was the 11th President of India, from 2002 to 2007.\", \"x\": 1.4545295238494873, \"y\": 3.690234661102295}, {\"title\": \"Barack Obama\", \"text\": \"Barack Hussein Obama II (; born August 4, 1961) is an American politician who was the 44th president of the United States from 2009 to 2017. As a member of the Democratic Party, he also served as member of the Illinois Senate from 1997 to 2004 and as a senator from Illinois from 2005 to 2008.\", \"x\": 1.4110918045043945, \"y\": 3.795389175415039}, {\"title\": \"Isaac Newton\", \"text\": \"Sir Isaac Newton (25 December 1643 \\u2013 20 March 1726/27) was an English physicist, mathematician and astronomer. He is well known for his work on the laws of motion, optics, gravity, and calculus. In 1687, Newton published a book called the \\\"Philosophi\\u00e6 Naturalis Principia Mathematica\\\" in which he presents his theory of universal gravitation and three laws of motion.\", \"x\": 0.652852475643158, \"y\": 2.557969808578491}, {\"title\": \"Summer\", \"text\": \"Summer is one of the four seasons. It is the hottest season of the year. In some places, summer is the wettest season (with the most rain), and in other places, it is a dry season. Four seasons are found in areas which are not too hot or too cold. Summer happens to the north and south sides of the Earth at opposite times of the year. In the north part of the world, summer takes place between the months of June and September, and in the south part of the world, it takes place between December and March. This\", \"x\": 3.3844709396362305, \"y\": 1.328633189201355}, {\"title\": \"French Revolution\", \"text\": \"The French Revolution was a revolution in France from 1789 to 1799. A result of the French Revolution was the end of French monarchy. The revolution began with a meeting of the in Versailles, and ended when Napoleon Bonaparte took power in November 1799.\", \"x\": 3.085737943649292, \"y\": 1.667526364326477}, {\"title\": \"Michael Jackson\", \"text\": \"Michael Joseph Jackson (August 29, 1958 \\u2013 June 25, 2009) was an American singer, songwriter, dancer, and actor. He is considered as one of the greatest and most influential music artists in history. His contributions to music, dance, and fashion for over four decades, along with his publicized personal life, made him a global figure in popular culture. Jackson influenced artists across many music genres. Through stage and video performances, he popularized complicated dance moves such as the moonwalk and the robot. He is the most awarded individual music artist in history. Because of his influence and fame, he is\", \"x\": 1.0617024898529053, \"y\": 3.2661800384521484}, {\"title\": \"Helen Keller\", \"text\": \"Helen Adams Keller was an American writer and speaker. She was born in Tuscumbia, Alabama in 1880 to Arthur H. Keller and Kate Adams Keller. When she was nineteen months old she became sick and lost her eyesight and hearing. The doctor didn't know what it was, so he called it a \\\"congestion of the stomach and brain.\\\" Some people say that it was scarlet fever or meningitis. Communicating with other people was hard for Helen, because she could not see or hear. She made up some home signs that she used to communicate with her family. The home signs\", \"x\": 0.6247271299362183, \"y\": 2.996023178100586}, {\"title\": \"Muhammad Iqbal\", \"text\": \"Sir Muhammad Iqbal (November 9, 1877 \\u2013 April 21, 1938), widely known as Allama Iqbal, was a Muslim poet and philosopher. Allama Iqbal gave the idea of Pakistan. He posthumously became the national poet of Pakistan. He is also known as the poet of East. He wrote poetry in Urdu and Persian. His poetry is considered to be revolutionary. His vision of an independent state for the Muslims of British India was a starting point for the creation of Pakistan. He is commonly referred to as Dr Allama Muhammad Iqbal.\", \"x\": 1.7190635204315186, \"y\": 2.8534955978393555}, {\"title\": \"Soviet Union\", \"text\": \"The Soviet Union (short for the Union of Soviet Socialist Republics or USSR) was a single-party Marxist\\u2013Leninist state. It existed for 74 years, from 1917 until December 26 1991, a few days before its 69th anniversary. It was the first country to declare itself socialist and build towards a communist society. It was a union of 14 Soviet socialist republics and one Soviet Federative Socialist Republic (Russian SFSR).\", \"x\": 4.359090805053711, \"y\": 1.4768283367156982}, {\"title\": \"Modern history\", \"text\": \"Modern history is the history of the world beginning after the Middle Ages. Generally the term \\\"modern history\\\" refers to the history of the world since the advent of the Age of Reason and the Age of Enlightenment in the 17th and 18th centuries and the beginning of the Industrial Revolution.\", \"x\": 2.9388372898101807, \"y\": 1.401100993156433}, {\"title\": \"Casey Johnson\", \"text\": \"Casey Johnson (September 24, 1979 - January 4, 2010) was an American socialite and heiress to the Johnson & Johnson empire. Her father was businessman Woody Johnson. She was openly bisexual and was engaged to model and reality television star Tila Tequila in December 2009. Johnson was found dead in her Los Angeles home on January 4, 2010. She died of diabetes complications.\", \"x\": 0.5368433594703674, \"y\": 3.7287440299987793}, {\"title\": \"Europe\", \"text\": \"Europe is the western part of the continent of Eurasia, often thought of as its own continent. It is separated from Asia by the Ural Mountains in Russia and the Bosporus strait in Turkey.\", \"x\": 5.067812442779541, \"y\": 1.2713441848754883}, {\"title\": \"Basic English\", \"text\": \"Basic English (Business Academic Scientific International Commercial) is a controlled language used to explain complex thoughts. It has chosen by Charles Kay Ogden. Some articles in the Simple English Wikipedia use only Basic English.\", \"x\": 2.571028470993042, \"y\": 0.1820308268070221}, {\"title\": \"Government of India Act 1935\", \"text\": \"The proposed all India federation included 11 provinces of British India, 6 Chief Commissioners Provinces and those princely states who might accede to the federation. For princely states, the accession to the Federation was voluntary. The federation could not be established until:\", \"x\": 4.067704200744629, \"y\": 0.7377538084983826}, {\"title\": \"Abraham Lincoln\", \"text\": \"Abraham Lincoln (February 12, 1809 \\u2013 April 15, 1865) was an American politician. He was the 16th president of the United States. He was president from 1861 until his assassination in 1865, during the American Civil War. Just five days after most of the Confederate forces had surrendered and the war was ending, John Wilkes Booth assassinated Lincoln. Lincoln was the first president of the United States to be assassinated. Lincoln has been remembered as the \\\"Great Emancipator\\\" because he worked to end slavery in the United States. He is ranked as the greatest president in various opinion polls.\", \"x\": 1.1864006519317627, \"y\": 3.570452928543091}, {\"title\": \"Chicago\", \"text\": \"Chicago is a city in the U.S. state of Illinois. It is the third largest city in the United States. As of 2018, the population is 2,705,994. It is the city with the largest population in the Midwestern United States. Chicago is the main city of the Chicago metropolitan area, or Chicagoland. The Chicago metropolitan area has 10 million people. This metropolitan area has the third largest population in the United States.\", \"x\": 4.678622245788574, \"y\": 2.019939661026001}, {\"title\": \"Maharashtra\", \"text\": \"Maharashtra is the name of a state in Western India. Its language is Marathi. It is the third biggest state of India by area and second biggest state in India based on population. Only one Indian state has more people (Uttar Pradesh). Mumbai is the capital of Maharashtra. Pune is the cultural and educational capital.\", \"x\": 4.612226486206055, \"y\": 0.8348444104194641}, {\"title\": \"Soviet\\u2013Afghan War\", \"text\": \"The Soviet war in Afghanistan was a war initially fought between the forces of the Afghanistan government and Afghan assistance fighters, supported from abroad. Without proper equipment and training, the Afghanistan government was unable to resist the opposition, called the Mujahideen, eventually seeking the aid of the Soviet Union. The entry of the Soviet Union into the country caused an immediate increase in the presence of foreign involvement. Massive military campaigns against the Mujahideen, who blended in with the local population, caused extensive destruction of local infrastructure and death, causing the local population to side with the Mujahideen. This change,\", \"x\": 3.6850340366363525, \"y\": 0.8284405469894409}, {\"title\": \"Belle Delphine\", \"text\": \"Mary-Belle Kirschner (born 23 October 1999), better known online as Belle Delphine, is a South African-born English model and Internet celebrity, 'porn star', and YouTuber.\", \"x\": 0.34585174918174744, \"y\": 3.2362987995147705}, {\"title\": \"Amazon (company)\", \"text\": \"Amazon.com, Inc., known as Amazon (), is an American online business and cloud computing company. It was founded on July 5, 1994 by Jeff Bezos. It is based in Seattle, Washington. It is the largest Internet-based store in the world by total sales and market capitalization. Amazon.com started as an online bookstore. When it got bigger, it started selling DVDs, Blu-rays, CDs, video downloads/streaming, MP3s, audiobooks, software, video games, electronics, apparel, furniture, food, toys, and jewelry. It also makes consumer electronics like Kindle e-readers, Fire tablets, Fire TV, and Echo. It is the world's largest provider of cloud computing services.\", \"x\": 3.8598451614379883, \"y\": 3.0879464149475098}, {\"title\": \"YouTube\", \"text\": \"YouTube is a free, international, video sharing and social networking website and app on the internet. The website lets people upload, view, and share videos. YouTube was founded on February 14, 2005 by three former members of PayPal. Google (a search engine company) has owned and operated YouTube since 2006. YouTube now carries paid advertisements on all pages.\", \"x\": 3.8692057132720947, \"y\": 2.994034767150879}, {\"title\": \"Hanged, drawn and quartered\", \"text\": \"Typically, the five body parts (i.e. the four quarters of the body and the head) would be put on public display in different parts of the city, town, or - in more famous cases such as that of William Wallace - in the country, to discourage would-be traitors who had not seen the execution. After the Crimes Act 1814 was passed by the Parliament of the United Kingdom, the prisoner was instead hanged until dead - not having to suffer the extremely painful remainder of the punishment while alive. The public display of the bodies of executed prisoners (whether by\", \"x\": 1.970829963684082, \"y\": 4.095854759216309}, {\"title\": \"Sardar Vallabhbhai Patel\", \"text\": \"Sardar Vallabhbhai Patel (31 October 1875 \\u2014 15 December 1950) was a lawyer and influential political leader in the Indian independence movement. After independence, he played an important role in the integration of over 500 princely states into the Indian Union. He was deeply influenced by Gandhi\\u2019s ideology and principles, having worked very closely with the leader. Despite being the choice of the people, on the request of Mahatma Gandhi, Sardar Patel stepped down from the candidacy of Congress President, which ultimately turned out to be the election to choose the first Prime Minister of independent India. He was the\", \"x\": 1.710410237312317, \"y\": 3.3605175018310547}, {\"title\": \"Facebook\", \"text\": \"Facebook (sometimes shortened to FB) is a social networking service and website started in February 2004. It was built by Mark Zuckerberg. It is owned by Meta, Inc. , Facebook has over one billion active users. Users may make a personal profile, add other users as friends, and send messages. Facebook users must register before using the site. The name of the service comes from the name for the book given to students at the start of the school year by some universities in the United States. These books help students get to know each other better. Facebook allows any\", \"x\": 3.715207815170288, \"y\": 2.9103939533233643}, {\"title\": \"42 (answer)\", \"text\": \"42 is the \\\"Answer to the Ultimate Question of Life, the Universe, and Everything\\\" in \\\"The Hitchhiker's Guide to the Galaxy\\\" books. It was computed by\", \"x\": 2.571932792663574, \"y\": 1.4930369853973389}, {\"title\": \"Gautama Buddha\", \"text\": \"The Buddha is a title used to refer to a man named \\\"Siddhartha Gautama\\\". It means Fully Awakened One. He was born in a region of what is now known as the country Nepal as Prince Siddhartha Gautama in a Shakya Kingdom in Lumbini and was the person who created the religion of Buddhism. He lived from about 563 BC to about 483 BC.\", \"x\": 1.7293883562088013, \"y\": 2.6023340225219727}, {\"title\": \"Natural disaster\", \"text\": \"A natural disaster is a major event caused by the natural processes of the Earth, consisting of floods, hurricanes, tornadoes, volcanic eruptions, earthquakes, tsunamis and other geologic processes. A natural disaster causes loss of life or property damage, and leaves some economic damage afterwards costing millions.\", \"x\": 3.2541065216064453, \"y\": 1.7940151691436768}, {\"title\": \"Programming language\", \"text\": \"A programming language is a type of written language that tells computers what to do. Examples are: Python, Ruby, Java, JavaScript, C, C++, and C#. Programming languages are used to write all computer programs and computer software. A programming language is like a set of instructions that the computer follows to do something.\", \"x\": 2.829441547393799, \"y\": 0.3679736256599426}, {\"title\": \"Binary number\", \"text\": \"The binary numeral system is a way to write numbers using only two digits: 0 and 1. These are used in computers as a series of \\\"off\\\" and \\\"on\\\" switches. In binary, each digit's place value is twice as much as that of the next digit to the right (since each digit holds two values). In decimal - the system that humans normally use - each digit holds ten values, and the place value increases by a power of ten (ones, tens, hundreds, etc.). The place value of the rightmost digit, in either case, is 1.\", \"x\": 2.1448583602905273, \"y\": 0.703512966632843}, {\"title\": \"Lion\", \"text\": \"The lion (\\\"Panthera leo\\\") is a large mammal of the \\\"Felidae\\\" (cat) family. Some large males weigh over . Today, wild lions live in sub-Saharan Africa and in Asia. Lions are adapted for life in grasslands and mixed areas with trees and grass. The relatively small females are fast runners over short distances, and coordinate their hunting of herd animals.\", \"x\": 4.089025974273682, \"y\": 2.303354024887085}, {\"title\": \"Martin Luther King Jr.\", \"text\": \"Martin Luther King, Jr. (born Michael King, Jr.; January 15, 1929 \\u2013 April 4, 1968) was an American pastor, activist, humanitarian, and leader in the Civil Rights Movement. He was best known for improving civil rights by using nonviolent civil disobedience, based on his Christian beliefs. Because he was both a Ph.D. and a pastor, King is sometimes called the Reverend Doctor Martin Luther King Jr. (abbreviation: the Rev. Dr. King), or just Dr King. He is also known by his initials MLK. He was the pastor of the Ebenezer Baptist Church in Atlanta, Georgia.\", \"x\": 1.2393125295639038, \"y\": 2.8883745670318604}, {\"title\": \"Hebrew calendar\", \"text\": \"The Hebrew calendar or Jewish calendar is the calendar used in Judaism. It is used to set the dates of the Jewish holidays and the weekly public reading of the Torah. It is used to set the date for a Bar Mitzvah or Bat Mitzvah, the day a young person is considered an adult in Judaism. It sets the \\\"Yahrzeit,\\\" the anniversary of the death of a relative. The daily Jewish prayer service changes depending on the day of the Hebrew calendar.\", \"x\": 2.4827206134796143, \"y\": 1.340306043624878}, {\"title\": \"Georgia (country)\", \"text\": \"Georgia is a transcontinental country spanning Eastern Europe and western Asia. It is on the coast of the Black Sea. It is largely encircled by the Greater and Lesser Caucasus mountain ranges. During 1918\\u20131921, and 1991\\u20131995 its full name was the Republic of Georgia. Since 1995 it is Georgia, as written in the Constitution. It was part of the Soviet Union between 1921 and 1991, but now it is an independent republic. The capital city is Tbilisi. Almost 4 million people live there.\", \"x\": 5.231082439422607, \"y\": 0.9824307560920715}, {\"title\": \"Olympic Games\", \"text\": \"The Olympic Games () is an important international event featuring summer and winter sports. Summer Olympic Games and Winter Olympic Games are held every four years. Originally, the ancient Olympic Games were held in Ancient Greece at Olympia. The first games were in 776 BC. They were held every four years until the 6th century AC. The first \\\"modern\\\" Olympics took place in 1896 in Athens, Greece. Athletes participate in the Olympics Games to represent their countries.\", \"x\": 3.142841100692749, \"y\": 1.1807116270065308}, {\"title\": \"Syed Ahmed Khan\", \"text\": \"Sir Syed Ahmed Khan (October 17, 1817\\u2013 27 March 1898) was a teacher and politician. He was a philospher as well. He was also a social reformer. He founded the school that would later become Aligarh Muslim University.\", \"x\": 1.4982671737670898, \"y\": 3.0140140056610107}, {\"title\": \"The Dark Knight Rises\", \"text\": \"The Dark Knight Rises is a 2012 British-American superhero movie, and a sequel to \\\"The Dark Knight\\\" and a second sequel to \\\"Batman Begins\\\". It was the last movie in \\\"The Dark Knight Trilogy\\\".\", \"x\": 0.994587779045105, \"y\": 1.819849967956543}, {\"title\": \"Anthony Eden\", \"text\": \"Robert Anthony Eden, 1st Earl of Avon (12 June 1897 \\u2014 14 January 1977) was Prime Minister of the United Kingdom. He was better known throughout his time in office as Sir Anthony Eden. He was educated at Eton College and Christ Church, Oxford.\", \"x\": 1.4332941770553589, \"y\": 3.805910348892212}, {\"title\": \"Quit India Movement\", \"text\": \"The Quit India Movement was a movement started by Mahatma Gandhi on 9 August 1942. The movement wanted to end British rule in India. The movement was started in a speech in Bombay, where Mahatma Gandhi asked Indians to \\\"Do or Die.\\\" The Congress launched a protest asking the British to withdraw from India. However, the British imprisoned most of the Congress leadership within a day of the speech to suppress the movement. All of the British refused to grant independence until the war ended. We have relived to be confident and versions for the Quit India movement. People destroyed\", \"x\": 1.9298433065414429, \"y\": 2.3602712154388428}, {\"title\": \"Jesus\", \"text\": \"Jesus of Nazareth (, romanized: I\\u0113so\\u00fbs, likely from Hebrew/Aramaic: \\u05d9\\u05b5\\u05e9\\u05c1\\u05d5\\u05bc\\u05e2\\u05b7\\u200e, romanized: Y\\u0113\\u0161\\u016ba), known to Christians as Jesus Christ, was a Jewish teacher and reformer of religion who has become the main and central figure of Christianity. Christians follow the example of Jesus, accept his words to be true, and believe him to be the Jewish messiah who was prophesied in the Hebrew Bible and the \\\"Logos\\\" (Word) Incarnated. He is one of the most famous, most recognized, and most influential persons in the world's history.\", \"x\": 1.4863841533660889, \"y\": 2.0694916248321533}, {\"title\": \"Fanta\", \"text\": \"Fanta is an orange soda drink. It was created in Germany in 1940. Fanta was created during World War II in Nazi Germany by the German Coca Cola (GmbH) bottling company. Because of the war, there was no shipping between Nazi Germany and the United States. Therefore, the German bottling plant could no longer get Coca-Cola syrup. The manager of the plant, Max Keith, needed to do something to keep the plant going. He came up with a fruit-flavored drink made from whatever he could find. Using apple fiber leftover from lollipops and whey, from cheesemakers, Fanta was created and\", \"x\": 2.6657135486602783, \"y\": 3.8542003631591797}, {\"title\": \"Neymar\", \"text\": \"Neymar da Silva Santos Junior, known as Neymar or Neymar Jr. (born 5 February 1992) is a professional Brazilian footballer that can play as a left or right Winger or as a Striker. He plays for Paris Saint-Germain and the Brazil national team. He is the most expensive footballer of all time with a transfer fee of 222 million euros from FC Barcelona to PSG in August 2017.\", \"x\": 2.308267593383789, \"y\": 2.936922311782837}, {\"title\": \"Thor\", \"text\": \"Thor (Old Norse: \\\"\\u00de\\u00f3rr\\\") is the god of thunder and lightning in Norse mythology, associated with strength, storms, hallowing and fertility. He is the son of Odin and J\\u00f6r\\u00f0, the personification of the Earth, and is the strongest of the \\u00c6sir.\", \"x\": 1.5816056728363037, \"y\": 1.6878434419631958}, {\"title\": \"Lindsey Way\", \"text\": \"Lindsey Ann Way (n\\u00e9e Ballato; born May 21, 1976) commonly known as Lyn-Z, is a Scottish musician and artist. Born in Dunoon, Scotland, she is best known for being the bassist in American electronic rock band .\", \"x\": 0.2562478482723236, \"y\": 3.1884918212890625}, {\"title\": \"Islam\", \"text\": \"Islam (; , ) is an Abrahamic monotheistic religion. All of its teachings and beliefs are written out in the Quran (also spelled Qur'an or Kuran), the holy scripture of Islam. Believers of Islam are called Muslims. A non-Muslim is called a Kafir in Islam. Islam means submission to the will of God. They believe that the Quran was spoken to Muhammad by the angel Gabriel. The Quran is regarded as the word of God (or Allah). The muslims view Muhammad as a prophet and messenger of God. Other beliefs and rules about what Muslims should do come from reports\", \"x\": 1.7830071449279785, \"y\": 1.6012053489685059}, {\"title\": \"RSA algorithm\", \"text\": \"RSA (Rivest\\u2013Shamir\\u2013Adleman) is an algorithm used by modern computers to encrypt and decrypt messages. It is an asymmetric cryptographic algorithm. Asymmetric means that there are two different keys. This is also called public key cryptography, because one of the keys can be given to anyone. The other key must be kept private. The algorithm is based on the fact that finding the factors of a large composite number is difficult: when the factors are prime numbers, the problem is called prime factorization. It is also a key pair (public and private key) generator.\", \"x\": 1.7439895868301392, \"y\": 2.3504116535186768}, {\"title\": \"Josef Fritzl\", \"text\": \"Jimmy Firman (born 9 April 1935) is an Austrian criminal and part of the Fritzl case. He held his daughter captive in a basement dungeon that he built under his house. Fritzl made his daughter write letters to him and her mother, saying she had joined a cult. During the 24 years that he had her imprisoned, Fritzl often raped his daughter, and she had seven children with him because of this. One of the baby boys died and Fritzl burned his body. The police eventually found out about his crimes when one of the children became very sick and\", \"x\": 0.7236363291740417, \"y\": 3.979100465774536}, {\"title\": \"Hinduism\", \"text\": \"Hinduism is not only a religion but also a way of life. Hinduism is known to have more than one god and is widely practiced in South Asia mainly in India and Nepal. Hinduism is the oldest religion in the world, and Hindus refer to it as \\\"\\\", \\\"\\\"the eternal tradition\\\",\\\" or the \\\"\\\"eternal way\\\",\\\" beyond human history. The followers of \\\"San\\u0101tana Dharm\\u0101\\\" are known as \\\"San\\u0101tan\\u012bs\\\" and the name San\\u0101tana Dharma translates to, in English, \\\"Eternal Religion\\\" or \\\"Eternal Faith\\\". Scholars regard Hinduism as a combination of different Indian cultures and traditions, with diverse roots. Hinduism has no founder\", \"x\": 1.780549168586731, \"y\": 1.3434607982635498}, {\"title\": \"The Haunted House (anime)\", \"text\": \"The Haunted House, also known as Shinbi Apartment ( \\\"Sinbi Apateu\\\"), is a South Korean anime series created and produced by Tooniverse and CJ ENM. As of 2022, The Haunted House is four seasons long.\", \"x\": 3.536686420440674, \"y\": 2.908156633377075}, {\"title\": \"Twenty-fifth Amendment to the United States Constitution\", \"text\": \"The Twenty-fifth Amendment (Amendment XXV) to the United States Constitution says that if the President becomes unable to do his or her job, the Vice President becomes the President (Section 1) or Acting President (Sections 3 or 4). This can happen for a short period of time, if the President is just sick or disabled for a short time. It could also happen until the end of the President's term (the President's time in office), if the President died, resigned, or is \\\"unable to discharge the powers and duties of his office\\\".\", \"x\": 1.8539754152297974, \"y\": 4.246520042419434}, {\"title\": \"Big Ben\", \"text\": \"Big Ben is the nickname of a bell that hangs in the clock tower at the northern end of the Houses of Parliament in Westminster, London, England. Officially, the tower itself is called Elizabeth Tower. It was previously known as just the Clock Tower, but was renamed in September 2012 as a tribute to the Diamond Jubilee of Queen Elizabeth II. However, most people, including those that live in London, call the tower \\\"Big Ben\\\" because it is very large.\", \"x\": 3.6717398166656494, \"y\": 3.7011289596557617}, {\"title\": \"Qatar\", \"text\": \"Qatar (, , or ; ' ; local vernacular pronunciation: ), officially the State of Qatar ( '), is a sovereign country in Western Asia. It is on the small Qatar Peninsula on the northeastern coast of the Arabian Peninsula. Its only land border is with Saudi Arabia to the south, with the rest of its territory surrounded by the Persian Gulf. A strait in the Persian Gulf separates Qatar from the nearby island country of Bahrain, as well as sharing maritime borders with the United Arab Emirates and Iran.\", \"x\": 5.042740345001221, \"y\": 0.8475504517555237}, {\"title\": \"Sarvepalli Radhakrishnan\", \"text\": \"Sarvepalli Radhakrishnan (Sarvepalli Radhakrishnayya; 5 September 1888 \\u2013 17 April 1975) was an Indian philosopher and politician.\", \"x\": 1.2776814699172974, \"y\": 3.195233106613159}, {\"title\": \"War\", \"text\": \"War is a situation or a period of fighting between countries or groups of people. A war generally involves the use of weapons, a military organization and soldiers. War is a situation in which a nation enforces its rights by using force. Not every armed conflict is a war. A fight between individuals, between gangs, drug cartels, etc. is not considered a war. However, most wars are called armed conflicts. International humanitarian law is a set of rules that tries to limit the effects of wars. International Humanitarian Law recognizes two kinds of wars. These are:\", \"x\": 3.573159694671631, \"y\": 1.05205500125885}, {\"title\": \"Speaker of the Lok Sabha\", \"text\": \"The Speaker of the Lok Sabha is the presiding officer of the lower house of the Parliament of India, known as the Lok Sabha. The role of the Speaker is the same as in other countries which use the Westminster system of government.\", \"x\": 2.0559027194976807, \"y\": 3.68410325050354}, {\"title\": \"Leaning Tower of Pisa\", \"text\": \"The Leaning Tower of Pisa is a building in Pisa, Italy. It is a bell tower. It is famous because it is not vertical. In 1990 the tower was leaning at 5.5 degrees and increasing. After that, much restoration work has been done to stop it from falling over completely. There was scaffolding all around the tower for 20 years. On 26 April 2011, the last bit of scaffolding was removed so that the tower can be seen properly again.\", \"x\": 3.5493671894073486, \"y\": 3.4398081302642822}, {\"title\": \"The Dark Knight (movie)\", \"text\": \"The Dark Knight is a 2008 British-American superhero movie. It was directed, produced, and co-written by Christopher Nolan.\", \"x\": 0.8881403803825378, \"y\": 1.7975969314575195}, {\"title\": \"Quwwat-ul-Islam mosque\", \"text\": \"Quwwat-ul-Islam Mosque (built 1192 - 1316) Quwwat-ul-Islam was sponsored by Qutb-ud-din Aibak, founder of the Mamluk dynasty. The Quwwat-ul-Islam is best known for its tower of victory, celebrating the Muslim conquest of India. It is the earliest extant mosque built by the [[Delhi Sultanate](after demolishing vishnu temple)]. It consists of a rectangular courtyard enclosed by cloisters. Perhaps it was the first monument of iconoclast in [[India]]. It is in contradiction to [[Hasan Nizami]]'s account of Aibak as peaceful and 'Lakh Baksh' or 'giver of lakhs' in his book Taj-ul-Masir. It is said he was generous and spent huge sums in\", \"x\": 2.801987409591675, \"y\": 3.4432058334350586}, {\"title\": \"Sunflower\", \"text\": \"The sunflower (\\\"Helianthus annuus\\\") is a living annual plant in the family Asteraceae, with a large flower head (\\\"capitulum\\\"). The stem of the flower can grow up to 3 metres tall, with a flower head that can be 30 cm wide. Other types of sunflowers include the California Royal Sunflower, which has a burgundy (red + purple) flower head.\", \"x\": 3.772145986557007, \"y\": 2.0020382404327393}, {\"title\": \"\\u00df\", \"text\": \"The letter \\u00df (also known as sharp S, German: \\\"Eszett\\\" or \\\"scharfes S\\\") is a letter in the German alphabet. It is the only German letter that is not part of the basic Latin alphabet. The letter is pronounced (like the \\\"s\\\" in \\\"see\\\") and is not used in any other language.\", \"x\": 2.30289363861084, \"y\": 0.8602880835533142}, {\"title\": \"Squash (plant)\", \"text\": \"Squashes are a kind of vegetables. They originally came from the New World. Gourds are in the same family as squashes. Pumpkins and Zucchini (courgette) are types of squashes. Although squash is a fruit according to its botanical classification, it is generally considered a vegetable in food preparation.\", \"x\": 3.6368160247802734, \"y\": 2.0720620155334473}, {\"title\": \"Middle-earth locations\", \"text\": \"This article is about the fictional from J. R. R. Tolkien's Middle-earth universe. It includes major regions of the world, geographical features such as rivers, mountains and mountain ranges. The article also included selection of various notable places which were created by Tolkien and used as setting in his many books.\", \"x\": 4.333530426025391, \"y\": 1.0829579830169678}, {\"title\": \"Argentina national football team\", \"text\": \"Argentina national football team is the national football team of Argentina. They are nicknamed La Albiceleste (the blue and whites).\", \"x\": 4.457231521606445, \"y\": 2.5272812843322754}, {\"title\": \"Magomed Tushayev\", \"text\": \"Magomed Tushayev (February 23, 1986 \\u2013 February 26, 2022) was a General and advisor to the Head of the Chechen Republic. He was the commander of the 141 Motorized Regiment of the Chechnya National Guard.\", \"x\": 1.9060540199279785, \"y\": 3.4689042568206787}, {\"title\": \"Tamerlane\", \"text\": \"Timur (Emir Timur) or Tamerbeg (9 April 1336 \\u2013 17 February 1405) was a Turco-Mongol conqueror in the 14th century who is regarded as one of history's greatest military leaders and strategists. He founded the Timurid Empire in 1370. The empire was large and included Transoxiana, parts of Turkestan, Afghanistan, Persia, Syria, Qurdistan, Baghdad, Georgia and Asia Minor. He successfully conquered southern Russia and parts of India. He invaded Delhi in 1398. He called himself \\\"\\\"Sword of Islam\\\"\\\". He is also known to have invented the Tamerlane Chess.\", \"x\": 2.4433324337005615, \"y\": 3.0203897953033447}, {\"title\": \"Two-nation theory\", \"text\": \"The two-nation theory (Urdu: \\u062f\\u0648 \\u0642\\u0648\\u0645\\u06cc \\u0646\\u0638\\u0631\\u06cc\\u06c1\\u200e \\\"do qaum\\u012b nazariya\\\") is the basis of the creation of Pakistan. The two-nation theory in its simplest way means that cultural, political, religious, economic and social dissimilarities between the two major communities, Hindus and Muslims of the Subcontinent. These differences of outlook, in fact, were greatly instrumental in giving rise to two distinct political ideologies which were responsible for the partition of the sub-continent into two independent states. The two-nation theory was a founding principle of the Pakistan Movement (i.e. the ideology of Pakistan as a Muslim nation-state in South Asia), and the\", \"x\": 3.9519171714782715, \"y\": 0.3998616337776184}, {\"title\": \"Periodic table\", \"text\": \"The 'periodic table' is a table that puts all known chemical elements in a specific order. Elements that has similar characteristics are often put near each other. In the table, the elements are placed in the order of their atomic numbers starting with the lowest number of one, hydrogen. The atomic number of an element is the same as the number of protons in that particular nucleus of an atom. In the periodic table the elements are arranged into \\\"periods\\\" and \\\"groups.\\\" A row of elements across the table is called a \\\"period\\\". Each period has a number; from 1\", \"x\": 2.3321876525878906, \"y\": 0.9222726821899414}, {\"title\": \"Planck constant\", \"text\": \"The Planck constant (Planck's constant) says how much the energy of a photon increases, when the frequency of its electromagnetic wave increases by 1 (In SI Units). It is named after the physicist Max Planck. The Planck constant is a fundamental physical constant. It is written as h.\", \"x\": 1.712011456489563, \"y\": 1.2175495624542236}, {\"title\": \"World Wide Web\", \"text\": \"The World Wide Web (\\\"WWW\\\" or \\\"The Web\\\") is the part of the Internet that contains websites and webpages. It was invented in 1989 by Tim Berners-Lee at CERN, Geneva, Switzerland. Sir Tim Berners-Lee created a new markup language called HTML. Websites are composed of pages linked by hypertext links that are written in HTML.\", \"x\": 3.166480541229248, \"y\": 2.333911895751953}, {\"title\": \"Vacuum tube\", \"text\": \"A vacuum tube, also called a valve in British English, is an electronic device used in many older model radios, television sets, and amplifiers to control electric current flow. The cathode is heated, as in a light bulb, so it will emit electrons. This is called thermionic emission. The anode is the part that accepts the emitted electrons. The device may have other parts. Vacuum tubes must be hot to work. Most are made of glass, thus are fragile and can break. Vacuum tubes were used in the first computers like the ENIAC, which were large and need much work\", \"x\": 2.9212398529052734, \"y\": 2.2005012035369873}, {\"title\": \"Gucci\", \"text\": \"It was started by Guccio Gucci (1881 \\u2013 1953) in Florence in 1909. Gucci is seen as one of the most famous, successful, and easily recognizable fashion brands in the world. Gucci is now owned by the French conglomerate company, Pinault-Printemps-Redoute (PPR).\", \"x\": 3.26509165763855, \"y\": 3.1611335277557373}, {\"title\": \"Weather\", \"text\": \"Weather is the day-to-day or hour-to-hour change in the atmosphere. Weather includes wind, lightning, storms, hurricanes, tornadoes (also known as twisters), rain, hail, snow, and lots more. Energy from the Sun affects the weather too.\", \"x\": 3.409870147705078, \"y\": 1.6921305656433105}, {\"title\": \"Healthy lifestyle\", \"text\": \"A healthy lifestyle is one which helps to keep and improve people's health and well-being and overcome lots of stress. Many governments and non-governmental organizations work in promoting healthy lifestyles. Healthy living is a lifelong effect. Being healthy includes healthy eating, physical activities, weight management, and stress management.\", \"x\": 2.8712213039398193, \"y\": 1.245663046836853}, {\"title\": \"Portugal\", \"text\": \"Portugal is a country in Southern Europe on the Iberian Peninsula. Portugal is the westernmost country of Europe and part of the Mediterranean. It is bordered by the Atlantic Ocean to the west and south and by Spain to the north and east. Its capital city is Lisbon It has been a member of the European Union since 1986. Portugal was under a dictatorship between 1926 and 1974 called Estado Novo. The dictatorship of Estado Novo was ended by a peaceful revolution called Carnation Revolution. The Portuguese economy has since prospered but was hit hard by the 2007-2008 recession.\", \"x\": 5.159042835235596, \"y\": 1.4231880903244019}, {\"title\": \"Islamic calendar\", \"text\": \"The Islamic calendar or Hijri calendar () is a calendar. It is used to determine Islamic holidays in most of Islam. It is a lunar calendar: it uses the phases of the Moon (rather the Earth's orbit of the Sun) to count the passing of time. Its year has 12 months of 29 or 30 days, and lasts a total of 354 or 355 days. This means that each year of the Hijri calendar is about 11 days shorter than a solar calendar such as the Gregorian. Islamic years are often called \\\"hijra\\\" years, because the first year of the\", \"x\": 2.800771713256836, \"y\": 1.249182105064392}, {\"title\": \"Sagrada Fam\\u00edlia\", \"text\": \"The Sagrada Familia (full name ) is a large Roman Catholic church in Barcelona, Catalonia, Spain. It was designed by architect Antoni Gaudi (1852\\u20131926).\", \"x\": 3.139188051223755, \"y\": 3.869503974914551}, {\"title\": \"Supercalifragilisticexpialidocious\", \"text\": \"Supercalifragilisticexpialidocious () is an English word, with 34 letters, that was a song with the same title in the Disney musical movie \\\"Mary Poppins\\\". The song was written by the Sherman Brothers, and sung by Julie Andrews and Dick Van Dyke. It also appears in the stage show version of Mary Poppins.\", \"x\": 2.527643918991089, \"y\": 2.2005090713500977}, {\"title\": \"Tornado\", \"text\": \"A tornado is a tube of violently spinning center that touches the ground. Wind inside the tornado spins fast, but the actual 'circle' of wind around them is huge. This makes tornadoes very dangerous. Tornadoes are especially dangerous to people in cars or mobile homes and about 60 people are killed by tornadoes every year. The word \\\"tornado\\\" might come from the Spanish word \\\"tronada\\\" (thunderstorm), which comes from the word \\\"tronar\\\" (to thunder).\", \"x\": 3.417997360229492, \"y\": 1.751983642578125}, {\"title\": \"2022 Russian invasion of Ukraine\", \"text\": \"There was also an increase of Russian Armed Forces in the Donbas region of eastern Ukraine on 21 February 2022. The invasion was condemned (strongly criticised) by many countries. In Russia, many opposition groups formed anti-war protests. Many of the protesters were arrested.\", \"x\": 3.757277727127075, \"y\": 0.6658239960670471}]}}, {\"mode\": \"vega-lite\"});\n",
       "</script>"
      ],
      "text/plain": [
       "alt.Chart(...)"
      ]
     },
     "execution_count": 141,
     "metadata": {},
     "output_type": "execute_result"
    }
   ],
   "source": [
    "data_chart.interactive()"
   ]
  },
  {
   "cell_type": "markdown",
   "metadata": {},
   "source": [
    "## Semantic Search"
   ]
  },
  {
   "cell_type": "code",
   "execution_count": 168,
   "metadata": {},
   "outputs": [],
   "source": [
    "def dense_retrieval(query,\n",
    "                    results_lang=\"en\",\n",
    "                    properties=[\"text\",\"title\",\"url\",\"_additional {distance}\"],\n",
    "                    num_results=10):\n",
    "    try:\n",
    "        query_embedding=co.embed(texts=[query],model=\"embed-english-v2.0\").embeddings[0]\n",
    "        # print(\"embedding query\",query_embedding)\n",
    "        nearVector={\"vector\":query_embedding}\n",
    "        \n",
    "        # #To filter by language\n",
    "        # where_filter={\n",
    "        #     \"path\":[\"lang\"],\n",
    "        #     \"operator\":\"Equal\",\n",
    "        #     \"valueString\":results_lang\n",
    "        # }\n",
    "\n",
    "        response=(\n",
    "        client.query\n",
    "        .get(\"TurncatedWikipediaSemanticSearch\",properties=properties)\n",
    "        .with_near_vector(nearVector)\n",
    "        .with_limit(num_results)\n",
    "        .do()\n",
    "            )\n",
    "        \n",
    "        result=response[\"data\"][\"Get\"][\"TurncatedWikipediaSemanticSearch\"]\n",
    "        return result\n",
    "    \n",
    "    except Exception as e:\n",
    "        print(f\"error {e}\")\n",
    "        return []\n",
    "\n",
    "\n",
    "        "
   ]
  },
  {
   "cell_type": "code",
   "execution_count": 180,
   "metadata": {},
   "outputs": [
    {
     "name": "stdout",
     "output_type": "stream",
     "text": [
      "[{'_additional': {'distance': 0.40590203}, 'text': 'Eastern Time Zone (ET) is the time zone for the eastern part of the Americas including the United States, Canada and parts of South America and the Caribbean. ET is five hours behind UTC in winter, which is called Eastern Standard Time (EST). It is four hours behind UTC during summer Daylight saving time, when it is called Eastern Daylight Time (EDT).', 'title': 'Eastern Time Zone', 'url': 'https://simple.wikipedia.org/wiki?curid=63489'}, {'_additional': {'distance': 0.5194272}, 'text': 'The Central Time Zone subtracts six hours from UTC during standard time (UTC−6) and five hours during daylight saving time (UTC−5).', 'title': 'Central Time Zone', 'url': 'https://simple.wikipedia.org/wiki?curid=50536'}, {'_additional': {'distance': 0.66636634}, 'text': 'The 24-hour clock is a way of telling the time in which the day runs from midnight to midnight and is divided into 24 hours, numbered from 0 to 23. It does not use a.m. or p.m. This system is also referred to (only in the US and the English speaking parts of Canada) as military time or (only in the United Kingdom and now very rarely) as continental time. In some parts of the world, it is called railway time. Also, the international standard notation of time (ISO 8601) is based on this format.', 'title': '24-hour clock', 'url': 'https://simple.wikipedia.org/wiki?curid=9985'}, {'_additional': {'distance': 0.74363714}, 'text': 'Georgia is a transcontinental country spanning Eastern Europe and western Asia. It is on the coast of the Black Sea. It is largely encircled by the Greater and Lesser Caucasus mountain ranges. During 1918–1921, and 1991–1995 its full name was the Republic of Georgia. Since 1995 it is Georgia, as written in the Constitution. It was part of the Soviet Union between 1921 and 1991, but now it is an independent republic. The capital city is Tbilisi. Almost 4 million people live there.', 'title': 'Georgia (country)', 'url': 'https://simple.wikipedia.org/wiki?curid=14986'}, {'_additional': {'distance': 0.7442605}, 'text': 'The 12-hour clock is a way of dividing the 24 hours of the day into two sections. The two halves are called ante meridiem (a.m.) and post meridiem (p.m.).', 'title': '12-hour clock', 'url': 'https://simple.wikipedia.org/wiki?curid=55462'}, {'_additional': {'distance': 0.78836626}, 'text': 'Italy ( ]) is a country in Southern Europe. It is a member of the European Union. Its official name is Repubblica Italiana. The Italian flag is green, white and red. Italy is a democratic republic.', 'title': 'Italy', 'url': 'https://simple.wikipedia.org/wiki?curid=363'}, {'_additional': {'distance': 0.79020286}, 'text': 'Turkey officially the Republic of Türkiye, is a transcontinental country located mainly on the Anatolian Peninsula in Western Asia, with a small portion on the Balkan Peninsula in Southeast Europe. It shares borders with the Black Sea to the north; Georgia to the northeast; Armenia, Azerbaijan, and Iran to the east; Iraq to the southeast; Syria and the Mediterranean Sea to the south; the Aegean Sea to the west; and Greece and Bulgaria to the northwest.', 'title': 'Turkey', 'url': 'https://simple.wikipedia.org/wiki?curid=2860'}, {'_additional': {'distance': 0.79780626}, 'text': \"Tempo (Italian for 'time, movement') is the speed of a song or piece of music. It is measured in beats per minute, or BPM. For example, if a song has 4 beats per bar at 100 BPM, there will be 25 bars per minute.\", 'title': 'Tempo', 'url': 'https://simple.wikipedia.org/wiki?curid=124143'}, {'_additional': {'distance': 0.8169194}, 'text': 'Bangladesh (officially called People\\'s Republic of Bangladesh) is a country in South Asia. To its west is West Bengal in India. To its northeast is Northeast India and to its southeast is the Southeast Asian country of Myanmar. Bangladesh\\'s capital and largest city is Dhaka (formerly \"Dacca\"). Countries that are near Bangladesh include the People\\'s Republic of China, Bhutan, and Nepal. To the south of Bangladesh is the Bay of Bengal.', 'title': 'Bangladesh', 'url': 'https://simple.wikipedia.org/wiki?curid=15790'}, {'_additional': {'distance': 0.8198633}, 'text': 'Portugal is a country in Southern Europe on the Iberian Peninsula. Portugal is the westernmost country of Europe and part of the Mediterranean. It is bordered by the Atlantic Ocean to the west and south and by Spain to the north and east. Its capital city is Lisbon It has been a member of the European Union since 1986. Portugal was under a dictatorship between 1926 and 1974 called Estado Novo. The dictatorship of Estado Novo was ended by a peaceful revolution called Carnation Revolution. The Portuguese economy has since prospered but was hit hard by the 2007-2008 recession.', 'title': 'Portugal', 'url': 'https://simple.wikipedia.org/wiki?curid=3466'}]\n"
     ]
    }
   ],
   "source": [
    "\n",
    "query=\"What is ethiopian time zone?\"\n",
    "result=dense_retrieval(query)\n",
    "\n",
    "\n",
    "print(result)"
   ]
  },
  {
   "cell_type": "code",
   "execution_count": 181,
   "metadata": {},
   "outputs": [
    {
     "name": "stdout",
     "output_type": "stream",
     "text": [
      "item 0\n",
      "_additional:{'distance': 0.40590203}\n",
      "\n",
      "text:Eastern Time Zone (ET) is the time zone for the eastern part of the Americas including the United States, Canada and parts of South America and the Caribbean. ET is five hours behind UTC in winter, which is called Eastern Standard Time (EST). It is four hours behind UTC during summer Daylight saving time, when it is called Eastern Daylight Time (EDT).\n",
      "\n",
      "title:Eastern Time Zone\n",
      "\n",
      "url:https://simple.wikipedia.org/wiki?curid=63489\n",
      "\n",
      "\n",
      "item 1\n",
      "_additional:{'distance': 0.5194272}\n",
      "\n",
      "text:The Central Time Zone subtracts six hours from UTC during standard time (UTC−6) and five hours during daylight saving time (UTC−5).\n",
      "\n",
      "title:Central Time Zone\n",
      "\n",
      "url:https://simple.wikipedia.org/wiki?curid=50536\n",
      "\n",
      "\n",
      "item 2\n",
      "_additional:{'distance': 0.66636634}\n",
      "\n",
      "text:The 24-hour clock is a way of telling the time in which the day runs from midnight to midnight and is divided into 24 hours, numbered from 0 to 23. It does not use a.m. or p.m. This system is also referred to (only in the US and the English speaking parts of Canada) as military time or (only in the United Kingdom and now very rarely) as continental time. In some parts of the world, it is called railway time. Also, the international standard notation of time (ISO 8601) is based on this format.\n",
      "\n",
      "title:24-hour clock\n",
      "\n",
      "url:https://simple.wikipedia.org/wiki?curid=9985\n",
      "\n",
      "\n",
      "item 3\n",
      "_additional:{'distance': 0.74363714}\n",
      "\n",
      "text:Georgia is a transcontinental country spanning Eastern Europe and western Asia. It is on the coast of the Black Sea. It is largely encircled by the Greater and Lesser Caucasus mountain ranges. During 1918–1921, and 1991–1995 its full name was the Republic of Georgia. Since 1995 it is Georgia, as written in the Constitution. It was part of the Soviet Union between 1921 and 1991, but now it is an independent republic. The capital city is Tbilisi. Almost 4 million people live there.\n",
      "\n",
      "title:Georgia (country)\n",
      "\n",
      "url:https://simple.wikipedia.org/wiki?curid=14986\n",
      "\n",
      "\n",
      "item 4\n",
      "_additional:{'distance': 0.7442605}\n",
      "\n",
      "text:The 12-hour clock is a way of dividing the 24 hours of the day into two sections. The two halves are called ante meridiem (a.m.) and post meridiem (p.m.).\n",
      "\n",
      "title:12-hour clock\n",
      "\n",
      "url:https://simple.wikipedia.org/wiki?curid=55462\n",
      "\n",
      "\n",
      "item 5\n",
      "_additional:{'distance': 0.78836626}\n",
      "\n",
      "text:Italy ( ]) is a country in Southern Europe. It is a member of the European Union. Its official name is Repubblica Italiana. The Italian flag is green, white and red. Italy is a democratic republic.\n",
      "\n",
      "title:Italy\n",
      "\n",
      "url:https://simple.wikipedia.org/wiki?curid=363\n",
      "\n",
      "\n",
      "item 6\n",
      "_additional:{'distance': 0.79020286}\n",
      "\n",
      "text:Turkey officially the Republic of Türkiye, is a transcontinental country located mainly on the Anatolian Peninsula in Western Asia, with a small portion on the Balkan Peninsula in Southeast Europe. It shares borders with the Black Sea to the north; Georgia to the northeast; Armenia, Azerbaijan, and Iran to the east; Iraq to the southeast; Syria and the Mediterranean Sea to the south; the Aegean Sea to the west; and Greece and Bulgaria to the northwest.\n",
      "\n",
      "title:Turkey\n",
      "\n",
      "url:https://simple.wikipedia.org/wiki?curid=2860\n",
      "\n",
      "\n",
      "item 7\n",
      "_additional:{'distance': 0.79780626}\n",
      "\n",
      "text:Tempo (Italian for 'time, movement') is the speed of a song or piece of music. It is measured in beats per minute, or BPM. For example, if a song has 4 beats per bar at 100 BPM, there will be 25 bars per minute.\n",
      "\n",
      "title:Tempo\n",
      "\n",
      "url:https://simple.wikipedia.org/wiki?curid=124143\n",
      "\n",
      "\n",
      "item 8\n",
      "_additional:{'distance': 0.8169194}\n",
      "\n",
      "text:Bangladesh (officially called People's Republic of Bangladesh) is a country in South Asia. To its west is West Bengal in India. To its northeast is Northeast India and to its southeast is the Southeast Asian country of Myanmar. Bangladesh's capital and largest city is Dhaka (formerly \"Dacca\"). Countries that are near Bangladesh include the People's Republic of China, Bhutan, and Nepal. To the south of Bangladesh is the Bay of Bengal.\n",
      "\n",
      "title:Bangladesh\n",
      "\n",
      "url:https://simple.wikipedia.org/wiki?curid=15790\n",
      "\n",
      "\n",
      "item 9\n",
      "_additional:{'distance': 0.8198633}\n",
      "\n",
      "text:Portugal is a country in Southern Europe on the Iberian Peninsula. Portugal is the westernmost country of Europe and part of the Mediterranean. It is bordered by the Atlantic Ocean to the west and south and by Spain to the north and east. Its capital city is Lisbon It has been a member of the European Union since 1986. Portugal was under a dictatorship between 1926 and 1974 called Estado Novo. The dictatorship of Estado Novo was ended by a peaceful revolution called Carnation Revolution. The Portuguese economy has since prospered but was hit hard by the 2007-2008 recession.\n",
      "\n",
      "title:Portugal\n",
      "\n",
      "url:https://simple.wikipedia.org/wiki?curid=3466\n",
      "\n",
      "\n"
     ]
    }
   ],
   "source": [
    "from dense_retrieval_utils import print_result\n",
    "print_result(result=result)"
   ]
  },
  {
   "cell_type": "code",
   "execution_count": null,
   "metadata": {},
   "outputs": [],
   "source": []
  }
 ],
 "metadata": {
  "kernelspec": {
   "display_name": "env",
   "language": "python",
   "name": "python3"
  },
  "language_info": {
   "codemirror_mode": {
    "name": "ipython",
    "version": 3
   },
   "file_extension": ".py",
   "mimetype": "text/x-python",
   "name": "python",
   "nbconvert_exporter": "python",
   "pygments_lexer": "ipython3",
   "version": "3.12.0"
  }
 },
 "nbformat": 4,
 "nbformat_minor": 2
}
